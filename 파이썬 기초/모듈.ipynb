{
 "cells": [
  {
   "cell_type": "markdown",
   "id": "d1d29d08",
   "metadata": {},
   "source": [
    "### 모듈 임포트 \n",
    "- 그동안 사용했던 함수들 처럼, 다양한 기능들이 미리 함수로 구현되어 모듈 형태로 제공\n",
    "- pandas - 데이터 분석 모듈"
   ]
  },
  {
   "cell_type": "code",
   "execution_count": 1,
   "id": "8b17633d",
   "metadata": {},
   "outputs": [],
   "source": [
    "# 그냥 간단하게 pandas 모듈을 임포트 하고 사용해봄\n",
    "import pandas as pd \n",
    "\n",
    "# df = pd.read_csv('경로')"
   ]
  },
  {
   "cell_type": "markdown",
   "id": "9cde28bf",
   "metadata": {},
   "source": [
    "또 math라는 모듈에서 파이, 코사인 같은것도 사용 가능"
   ]
  },
  {
   "cell_type": "code",
   "execution_count": 5,
   "id": "b28470a6",
   "metadata": {},
   "outputs": [
    {
     "name": "stdout",
     "output_type": "stream",
     "text": [
      "0.8623188722876839\n"
     ]
    }
   ],
   "source": [
    "from math import cos \n",
    "\n",
    "print(cos(100))"
   ]
  },
  {
   "cell_type": "markdown",
   "id": "e0a94c3e",
   "metadata": {},
   "source": [
    "### as \n",
    "- 모듈 import 시, as를 사용해 별명 지정가능 \n",
    "    - 위에서 내가 pa 앞에 as 를 붙인 것 처럼 pandas를 pd로 줄일 수 있음 "
   ]
  }
 ],
 "metadata": {
  "kernelspec": {
   "display_name": "Python 3 (ipykernel)",
   "language": "python",
   "name": "python3"
  },
  "language_info": {
   "codemirror_mode": {
    "name": "ipython",
    "version": 3
   },
   "file_extension": ".py",
   "mimetype": "text/x-python",
   "name": "python",
   "nbconvert_exporter": "python",
   "pygments_lexer": "ipython3",
   "version": "3.9.13"
  }
 },
 "nbformat": 4,
 "nbformat_minor": 5
}
