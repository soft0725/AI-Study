{
 "cells": [
  {
   "cell_type": "markdown",
   "id": "b8465c63",
   "metadata": {},
   "source": [
    "### 정규표현식\n",
    "- regular expression\n",
    "- 특정한 패턴과 일치하는 문자열을 '검색', '치환', '제거' 하는 기능을 지원\n",
    "- 정규표현식의 도움없이 패턴을 찾는 작업(Rule 기반)은 불완전 하거나, 작업의 cost가 높음\n",
    "- e.g) 이메일 형식 판별, 전화번호 형식 판별, 숫자로만 이루어진 문자열등"
   ]
  },
  {
   "cell_type": "markdown",
   "id": "90ebc1af",
   "metadata": {},
   "source": [
    "### raw string\n",
    "- 문자열 앞에 r이 붙으면 해당 문자열이 구성된 그대로 문자열로 변환"
   ]
  },
  {
   "cell_type": "code",
   "execution_count": 1,
   "id": "a5d6cb03",
   "metadata": {},
   "outputs": [
    {
     "name": "stdout",
     "output_type": "stream",
     "text": [
      "abcdef\n",
      "\n",
      "abcdef\\n\n"
     ]
    }
   ],
   "source": [
    "a = 'abcdef\\n' # escapce 문자열\n",
    "print(a)\n",
    "\n",
    "b = r'abcdef\\n'\n",
    "print(b)"
   ]
  },
  {
   "cell_type": "markdown",
   "id": "6ffd8a34",
   "metadata": {},
   "source": [
    "### 기본 패턴\n",
    "- a, X, 9 등등 문자 하나하나의 character들은 정확히 해당 문자와 일치 \n",
    "    - e.g) 패턴 test는 test 문자열과 일치 \n",
    "    - 대소문자의 경우 기본적으로 구별하나, 구별하지 않도록 설정 가능\n",
    "- 몇몇 문자들에 대해서는 예외가 존재하는데, 이들은 특별한 의미로 사용 됨\n",
    "    - . ^ 달러 * + ? {} [] \\ | ()  \n",
    "- .(마침표) - 어떤 한개의 character와 일치 (newline 제외)\n",
    "- \\w - 문자 character와 일치 [a-zA-Z0-9]\n",
    "- \\t, \\n, \\r - tab, newline, return\n",
    "- \\d - 숫자 character와 일치 [0-9]\n",
    "- ^ = 시작, $ = 끝 각각 문자열의 시작과 끝을 의미\n",
    "- \\가 붙으면 스페셜한 의미가 없어짐. 예를 들어 \\.은 .자체를 의미 \\\\은 \\를 의미"
   ]
  },
  {
   "cell_type": "markdown",
   "id": "1774bece",
   "metadata": {},
   "source": [
    "### search method\n",
    "- 첫 번째로 패턴을 찾으면 match 객체를 반환\n",
    "- 패턴을 찾지 못하면 None 반환"
   ]
  },
  {
   "cell_type": "code",
   "execution_count": 2,
   "id": "a9da3b0d",
   "metadata": {},
   "outputs": [],
   "source": [
    "import re"
   ]
  },
  {
   "cell_type": "code",
   "execution_count": 7,
   "id": "9ce8e766",
   "metadata": {},
   "outputs": [
    {
     "name": "stdout",
     "output_type": "stream",
     "text": [
      "3\n",
      "6\n",
      "abc\n",
      "<re.Match object; span=(3, 6), match='abc'>\n"
     ]
    }
   ],
   "source": [
    "m = re.search(r'abc', '123abcdef')\n",
    "# abcdef 라는 주어진 문자열에서 abc라는 패턴이 있는지를 확인\n",
    "\n",
    "print(m.start()) # 인덱스 0에서 시작\n",
    "print(m.end()) # 인덱스 3에서 끝남\n",
    "print(m.group()) # 검색된 패턴을 출력 \n",
    "print(m)"
   ]
  },
  {
   "cell_type": "code",
   "execution_count": 6,
   "id": "d49931ab",
   "metadata": {},
   "outputs": [
    {
     "name": "stdout",
     "output_type": "stream",
     "text": [
      "None\n"
     ]
    }
   ],
   "source": [
    "m = re.search(r'abc', '123abdef') # 위의 문자열에서 c 를 제거 \n",
    "print(m) "
   ]
  },
  {
   "cell_type": "markdown",
   "id": "a8b9dd5c",
   "metadata": {},
   "source": [
    "패턴이 없는 경우에는 None를 반환함"
   ]
  },
  {
   "cell_type": "code",
   "execution_count": 9,
   "id": "6026643a",
   "metadata": {},
   "outputs": [
    {
     "data": {
      "text/plain": [
       "<re.Match object; span=(0, 3), match='112'>"
      ]
     },
     "execution_count": 9,
     "metadata": {},
     "output_type": "execute_result"
    }
   ],
   "source": [
    "m = re.search(r'\\d\\d\\d', '112abcdef119') # \\d -> 숫자 \n",
    "m"
   ]
  },
  {
   "cell_type": "code",
   "execution_count": 13,
   "id": "1aa98fa2",
   "metadata": {},
   "outputs": [
    {
     "name": "stdout",
     "output_type": "stream",
     "text": [
      "<re.Match object; span=(3, 7), match='^&AB'>\n"
     ]
    }
   ],
   "source": [
    "m = re.search(r'..\\w\\w', '#$%^&ABD*&SA^%') # 앞에 아무거나 2개와 문자 2개\n",
    "print(m)"
   ]
  },
  {
   "cell_type": "markdown",
   "id": "8659413a",
   "metadata": {},
   "source": [
    "### metacharacters(메타 캐릭터)\n",
    "- [] 문자들의 범위를 나타내기 위해 사용 \n",
    "    - [] 내부의 메타 캐릭터는 캐릭터 자체를 나타냄\n",
    "    - e.g)\n",
    "        - [abck] : a or b or c or k\n",
    "        - [abc.^] : a or b or c or . or ^\n",
    "        - [a-d] : -와 함께 사용되면 해당 문자 사이의 범위에 속하는 문자 중 하나\n",
    "        - [0-9] : 모든 숫자\n",
    "        - [a-z] : 모든 소문자 \n",
    "        - [A-Z] : 모든 대문자\n",
    "        - [a-zA-Z0-9] : 모든 알파벳 문자 및 숫자\n",
    "        - [^0-9] : ^가 맨 앞에 사용되는 경우 해당 문자 패턴이 아닌 것과 매칭"
   ]
  },
  {
   "cell_type": "code",
   "execution_count": 14,
   "id": "611fc2e4",
   "metadata": {},
   "outputs": [
    {
     "data": {
      "text/plain": [
       "<re.Match object; span=(0, 3), match='cat'>"
      ]
     },
     "execution_count": 14,
     "metadata": {},
     "output_type": "execute_result"
    }
   ],
   "source": [
    "re.search(r'[cbm]at', 'cat') # [cbm] -> c or b or m "
   ]
  },
  {
   "cell_type": "code",
   "execution_count": 16,
   "id": "086cabd5",
   "metadata": {},
   "outputs": [
    {
     "data": {
      "text/plain": [
       "<re.Match object; span=(0, 5), match='caron'>"
      ]
     },
     "execution_count": 16,
     "metadata": {},
     "output_type": "execute_result"
    }
   ],
   "source": [
    "re.search(r'[abc.^]aron', 'caron') # a or b or c or . or ^ "
   ]
  },
  {
   "cell_type": "code",
   "execution_count": 17,
   "id": "88f0ca70",
   "metadata": {},
   "outputs": [],
   "source": [
    "re.search(r'[^abc]aron', 'caron') # abc가 아닌것 중에서 "
   ]
  },
  {
   "cell_type": "markdown",
   "id": "37d53e0b",
   "metadata": {},
   "source": [
    "검출이 안됨 ^가 맨 앞에 있으면 not"
   ]
  },
  {
   "cell_type": "markdown",
   "id": "aac5437a",
   "metadata": {},
   "source": [
    "### \\\n",
    "- 1. 다른 문자와 함께 사용되어 특수한 의미를 지님\n",
    "     - \\d : 숫자를 [0-9]와 동일\n",
    "     - \\D : 숫자가 아닌 문자 [^0-9]와 동일\n",
    "     - \\s : 공백 문자(띄어쓰기, 탭, 엔터 등)\n",
    "     - \\S : 공백이 아닌 문자 \n",
    "     - \\w : 알파벳대소문자, 숫자 [0-9a-zA-Z]와 동일 \n",
    "     - \\W : non alpha-numeric 문자 [^0-9a-zA-Z]와 동일 \n",
    "- 2. 메타 캐릭터가 캐릭터 자체를 표현하도록 할 경우 사용\n",
    "    - \\., \\\\"
   ]
  },
  {
   "cell_type": "code",
   "execution_count": 18,
   "id": "b077e1de",
   "metadata": {},
   "outputs": [
    {
     "data": {
      "text/plain": [
       "<re.Match object; span=(5, 9), match=' and'>"
      ]
     },
     "execution_count": 18,
     "metadata": {},
     "output_type": "execute_result"
    }
   ],
   "source": [
    "re.search(r'\\sand', 'apple and banana')"
   ]
  },
  {
   "cell_type": "code",
   "execution_count": 20,
   "id": "585c597e",
   "metadata": {},
   "outputs": [
    {
     "data": {
      "text/plain": [
       "<re.Match object; span=(0, 4), match='pand'>"
      ]
     },
     "execution_count": 20,
     "metadata": {},
     "output_type": "execute_result"
    }
   ],
   "source": [
    "re.search(r'\\.and', 'pand')"
   ]
  },
  {
   "cell_type": "markdown",
   "id": "6883d384",
   "metadata": {},
   "source": [
    "### .\n",
    "- . 모든 문자를 의미"
   ]
  },
  {
   "cell_type": "code",
   "execution_count": 21,
   "id": "cbcd445e",
   "metadata": {
    "scrolled": true
   },
   "outputs": [
    {
     "data": {
      "text/plain": [
       "<re.Match object; span=(0, 3), match='pig'>"
      ]
     },
     "execution_count": 21,
     "metadata": {},
     "output_type": "execute_result"
    }
   ],
   "source": [
    "re.search(r'p.g', 'pig')"
   ]
  },
  {
   "cell_type": "markdown",
   "id": "cc32dfe0",
   "metadata": {},
   "source": [
    "### 반복패턴 \n",
    "- 패턴 뒤에 위치하는 *, +, ?는 해당 패턴이 반복적으로 존재하는지 검사 \n",
    "    - '+' -> 1번 이상의 패턴이 발생\n",
    "    - '*' -> 0번 이상의 패턴이 발생\n",
    "    - '?' -> 0 혹은 1번의 패턴이 발생 \n",
    "- 반복 패턴의 경우 greedy하게 검색 함, 즉 가능한 많은 부분이 매칭되도록 함\n",
    "    - e.g) a[bcd]*b 패턴을 abcbdccb에서 검핵하는 경우 \n",
    "        - ab, abcd, abcbdccb 전부 가능 하지만 최대한 많은 부분이 매칭된 abcbdccb가 검색된 패턴"
   ]
  },
  {
   "cell_type": "code",
   "execution_count": 22,
   "id": "718f229b",
   "metadata": {},
   "outputs": [
    {
     "data": {
      "text/plain": [
       "<re.Match object; span=(0, 8), match='abcbdccb'>"
      ]
     },
     "execution_count": 22,
     "metadata": {},
     "output_type": "execute_result"
    }
   ],
   "source": [
    "re.search(r'a[bcd]*b', 'abcbdccb') # a로 시작하고 b or c or d가 있고 마지막에 b로 끝나는 것"
   ]
  },
  {
   "cell_type": "code",
   "execution_count": 23,
   "id": "a1bf4456",
   "metadata": {},
   "outputs": [
    {
     "data": {
      "text/plain": [
       "<re.Match object; span=(0, 5), match='https'>"
      ]
     },
     "execution_count": 23,
     "metadata": {},
     "output_type": "execute_result"
    }
   ],
   "source": [
    "re.search(r'https?', 'https://www.naver.com') # s가 한 번 있거나 없거나"
   ]
  },
  {
   "cell_type": "markdown",
   "id": "9dbe93ce",
   "metadata": {},
   "source": [
    "^*, *$\n",
    "- ^ 문자열의 맨 앞부터 일치하는 경우 검색\n",
    "- \\$ 문자열의 맨 뒤부터 일치하는 경우 검색"
   ]
  },
  {
   "cell_type": "code",
   "execution_count": 24,
   "id": "863bb296",
   "metadata": {},
   "outputs": [
    {
     "data": {
      "text/plain": [
       "<re.Match object; span=(2, 6), match='bana'>"
      ]
     },
     "execution_count": 24,
     "metadata": {},
     "output_type": "execute_result"
    }
   ],
   "source": [
    "re.search(r'b\\w+a', 'cabana')"
   ]
  },
  {
   "cell_type": "code",
   "execution_count": 25,
   "id": "aacd3c51",
   "metadata": {},
   "outputs": [],
   "source": [
    "re.search(r'^b\\w+a$', 'cabana')"
   ]
  },
  {
   "cell_type": "markdown",
   "id": "9f1da847",
   "metadata": {},
   "source": [
    "### grouping\n",
    "- ()을 사용하여 그루핑\n",
    "- 매칭 결과를 각 그룹별로 분리 가능\n",
    "- 패턴 명시 할 때, 각 그룹을 괄호 안에 넣어 분리하여 사용"
   ]
  },
  {
   "cell_type": "code",
   "execution_count": 31,
   "id": "72ffa054",
   "metadata": {},
   "outputs": [
    {
     "name": "stdout",
     "output_type": "stream",
     "text": [
      "test\n",
      "gmail.com\n",
      "test@gmail.com\n"
     ]
    }
   ],
   "source": [
    "m = re.search(r'(\\w+)+@(.+)', 'test@gmail.com')\n",
    "print(m.group(1))\n",
    "print(m.group(2))\n",
    "print(m.group(0))"
   ]
  },
  {
   "cell_type": "markdown",
   "id": "71469425",
   "metadata": {},
   "source": [
    "### {}\n",
    "- *, +, ?을 사용하여 반복적인 패턴을 찾는 것이 가능하나, 반복의 횟수 제한은 불가\n",
    "- 패턴뒤에 위치하는 중괄호{}에 숫자를 명시하면 해당 숫자 만큼의 반복인 경우에만 매칭 \n",
    "- {4} - 4번 반복\n",
    "- {3, 4] - 3 ~ 4번 반복"
   ]
  },
  {
   "cell_type": "code",
   "execution_count": 35,
   "id": "5a864121",
   "metadata": {},
   "outputs": [
    {
     "data": {
      "text/plain": [
       "<re.Match object; span=(0, 5), match='piiig'>"
      ]
     },
     "execution_count": 35,
     "metadata": {},
     "output_type": "execute_result"
    }
   ],
   "source": [
    "re.search('pi{3}g', 'piiig')"
   ]
  },
  {
   "cell_type": "markdown",
   "id": "48c56d68",
   "metadata": {},
   "source": [
    "### 미니멈 매칭(non-greedy way)\n",
    "- 기본적으로 *, +, ?를 사용하면 greedy(맥시멈 매칭)하게 동작함\n",
    "- *?, +?을 이용하여 해당 기능을 구현"
   ]
  },
  {
   "cell_type": "code",
   "execution_count": 37,
   "id": "10e70ef5",
   "metadata": {},
   "outputs": [
    {
     "data": {
      "text/plain": [
       "<re.Match object; span=(0, 17), match='<html>haha</html>'>"
      ]
     },
     "execution_count": 37,
     "metadata": {},
     "output_type": "execute_result"
    }
   ],
   "source": [
    "re.search(r'<.+>', '<html>haha</html>')"
   ]
  },
  {
   "cell_type": "code",
   "execution_count": 38,
   "id": "6b60a449",
   "metadata": {
    "scrolled": true
   },
   "outputs": [
    {
     "data": {
      "text/plain": [
       "<re.Match object; span=(0, 6), match='<html>'>"
      ]
     },
     "execution_count": 38,
     "metadata": {},
     "output_type": "execute_result"
    }
   ],
   "source": [
    "re.search(r'<.+?>', '<html>haha</html>')"
   ]
  },
  {
   "cell_type": "markdown",
   "id": "aa377f06",
   "metadata": {},
   "source": [
    "### {}\n",
    "- {m, n}의 경우 m번 에서 반복하나 greedy하게 동작\n",
    "- {m,n}?로 사용하면 non-greedy하게 동작 즉, 최소 m번만 매칭하면 만족"
   ]
  },
  {
   "cell_type": "code",
   "execution_count": 39,
   "id": "8d613e79",
   "metadata": {},
   "outputs": [
    {
     "data": {
      "text/plain": [
       "<re.Match object; span=(0, 5), match='aaaaa'>"
      ]
     },
     "execution_count": 39,
     "metadata": {},
     "output_type": "execute_result"
    }
   ],
   "source": [
    "re.search(r'a{3,5}', 'aaaaa')"
   ]
  },
  {
   "cell_type": "code",
   "execution_count": 40,
   "id": "1b61a0d8",
   "metadata": {},
   "outputs": [
    {
     "data": {
      "text/plain": [
       "<re.Match object; span=(0, 3), match='aaa'>"
      ]
     },
     "execution_count": 40,
     "metadata": {},
     "output_type": "execute_result"
    }
   ],
   "source": [
    "re.search(r'a{3,5}?', 'aaaaa')"
   ]
  },
  {
   "cell_type": "markdown",
   "id": "2276de79",
   "metadata": {},
   "source": [
    "### match \n",
    "- search와 유사하나, 주어진 문자열의 시작부터 비교하여 패턴이 있는지 확인\n",
    "- 시작부터 해당 패턴이 존재하지 않다면 None 반환"
   ]
  },
  {
   "cell_type": "code",
   "execution_count": 41,
   "id": "92124c74",
   "metadata": {},
   "outputs": [],
   "source": [
    "re.match(r'\\d\\d\\d', 'my number is 12312412')"
   ]
  },
  {
   "cell_type": "code",
   "execution_count": 42,
   "id": "474be6ac",
   "metadata": {},
   "outputs": [
    {
     "data": {
      "text/plain": [
       "<re.Match object; span=(0, 3), match='123'>"
      ]
     },
     "execution_count": 42,
     "metadata": {},
     "output_type": "execute_result"
    }
   ],
   "source": [
    "re.match(r'\\d\\d\\d', '123 is my number')"
   ]
  },
  {
   "cell_type": "code",
   "execution_count": 43,
   "id": "39810b5d",
   "metadata": {},
   "outputs": [
    {
     "data": {
      "text/plain": [
       "<re.Match object; span=(0, 3), match='123'>"
      ]
     },
     "execution_count": 43,
     "metadata": {},
     "output_type": "execute_result"
    }
   ],
   "source": [
    "re.search(r'^\\d\\d\\d', '123 is my number')"
   ]
  },
  {
   "cell_type": "markdown",
   "id": "b85f3500",
   "metadata": {},
   "source": [
    "위는 match와 동일한 코드"
   ]
  },
  {
   "cell_type": "markdown",
   "id": "ddc5bfec",
   "metadata": {},
   "source": [
    "### findall\n",
    "- search가 최초로 매칭되는 패턴만 반환한다면, findall은 매칭되는 전체의 패턴을 반환\n",
    "- 매칭되는 모든 결과를 리스트 형태로 반환"
   ]
  },
  {
   "cell_type": "code",
   "execution_count": 44,
   "id": "50f2fec2",
   "metadata": {},
   "outputs": [
    {
     "data": {
      "text/plain": [
       "['test@gmail.com', 'test2@gmail.com']"
      ]
     },
     "execution_count": 44,
     "metadata": {},
     "output_type": "execute_result"
    }
   ],
   "source": [
    "re.findall(r'[\\w-]+@[\\w.]+', 'test@gmail.com haha test2@gmail.com nice test test')"
   ]
  },
  {
   "cell_type": "markdown",
   "id": "33d778b2",
   "metadata": {},
   "source": [
    "### sub\n",
    "- 주어진 문자열에서 일치하는 모든 패턴을 replace \n",
    "- 그 결과를 문자열로 다시 반환함 \n",
    "- 두 번째 인자는 특정 문자열이 될 수도 있고, 함수가 될 수도 있음\n",
    "- count가 0인 경우는 전체를, 1이상이면 해당 숫자만큼 치환됨"
   ]
  },
  {
   "cell_type": "code",
   "execution_count": 45,
   "id": "87288f94",
   "metadata": {},
   "outputs": [
    {
     "data": {
      "text/plain": [
       "'great haha great nice test test'"
      ]
     },
     "execution_count": 45,
     "metadata": {},
     "output_type": "execute_result"
    }
   ],
   "source": [
    "re.sub(r'[\\w-]+@[\\w.]+', 'great', 'test@gmail.com haha test2@gmail.com nice test test')"
   ]
  },
  {
   "cell_type": "markdown",
   "id": "9e03e910",
   "metadata": {},
   "source": [
    "이메일 부분은 great로 바꿈`"
   ]
  },
  {
   "cell_type": "code",
   "execution_count": 46,
   "id": "1647028c",
   "metadata": {},
   "outputs": [
    {
     "data": {
      "text/plain": [
       "'great haha test2@gmail.com nice test test'"
      ]
     },
     "execution_count": 46,
     "metadata": {},
     "output_type": "execute_result"
    }
   ],
   "source": [
    "re.sub(r'[\\w-]+@[\\w.]+', 'great', 'test@gmail.com haha test2@gmail.com nice test test', count = 1)"
   ]
  },
  {
   "cell_type": "markdown",
   "id": "504ab310",
   "metadata": {},
   "source": [
    "count가 1이면 하나만 바꿈, 2면 2개, 3이면 3.."
   ]
  },
  {
   "cell_type": "markdown",
   "id": "aeb9368f",
   "metadata": {},
   "source": [
    "### compile\n",
    "- 동일한 정규표현식을 매번 다시 쓰기 번거로움 해결\n",
    "- compile로 해당 표현식을 re.RegexObject 객체로 저장하여 사용 가능"
   ]
  },
  {
   "cell_type": "code",
   "execution_count": 48,
   "id": "b0f49535",
   "metadata": {},
   "outputs": [
    {
     "data": {
      "text/plain": [
       "<re.Match object; span=(0, 14), match='test@gmail.com'>"
      ]
     },
     "execution_count": 48,
     "metadata": {},
     "output_type": "execute_result"
    }
   ],
   "source": [
    "email_reg = re.compile(r'[\\w-]+@[\\w.]+')\n",
    "\n",
    "email_reg.search('test@gmail.com haha good')"
   ]
  }
 ],
 "metadata": {
  "kernelspec": {
   "display_name": "Python 3 (ipykernel)",
   "language": "python",
   "name": "python3"
  },
  "language_info": {
   "codemirror_mode": {
    "name": "ipython",
    "version": 3
   },
   "file_extension": ".py",
   "mimetype": "text/x-python",
   "name": "python",
   "nbconvert_exporter": "python",
   "pygments_lexer": "ipython3",
   "version": "3.9.13"
  }
 },
 "nbformat": 4,
 "nbformat_minor": 5
}
