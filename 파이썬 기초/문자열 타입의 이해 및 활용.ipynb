{
 "cells": [
  {
   "cell_type": "markdown",
   "id": "efa6202c",
   "metadata": {},
   "source": [
    "## String (문자열)\n",
    "- 복수개의 문자를 순서대로 나열 한 것\n",
    "- 문자열은 '(작은따옴표) \"(큰따옴표) 사이에 문자를 넣어서 생성\n",
    "\n",
    "- ''' '''사용하여 표현 가능 \n",
    "    - 차이점\n",
    "        - '', \"\" -> 한줄에 문자열 표현 \n",
    "        - ''' ''' -> 여러줄에 걸쳐 문자열 표현 가능"
   ]
  },
  {
   "cell_type": "code",
   "execution_count": 2,
   "id": "8b88aee3",
   "metadata": {},
   "outputs": [
    {
     "name": "stdout",
     "output_type": "stream",
     "text": [
      "Hello World\n",
      "Hello World\n",
      "\n",
      "Hello World\n",
      "\n"
     ]
    }
   ],
   "source": [
    "a = 'Hello World'\n",
    "\n",
    "b = \"Hello World\"\n",
    "\n",
    "c = '''\n",
    "Hello World\n",
    "'''\n",
    "\n",
    "print(a, b, c, sep='\\n')"
   ]
  },
  {
   "cell_type": "markdown",
   "id": "65058f65",
   "metadata": {},
   "source": [
    "마지막에 c의 부분이 띄어지는 이유는 '''하고 한 칸을 엔터쳤기 때문"
   ]
  },
  {
   "cell_type": "markdown",
   "id": "e1a06efb",
   "metadata": {},
   "source": [
    "### escape string (이스케이프 문자)\n",
    "- 문자열내의 일부 문자의 의미를 달리하여 **특정한 효과**를 주는 것\n",
    "- `\\n` : new line, `\\t` : tab 등 많음"
   ]
  },
  {
   "cell_type": "markdown",
   "id": "6fac2200",
   "metadata": {},
   "source": [
    "### indexing & slicing string (문자열 인덱스 및 추출)\n",
    "- 문자열의 각 문자는 순서가 있음 \n",
    "- 이때 각 문자열의 순서를 **인덱스**라고 함 \n",
    "- 첫 번째 문자부터 마지막까지 차례대로의 순서를 가짐 \n",
    "- 첫 번째 시작문자의 순서는 0으로 시작 "
   ]
  },
  {
   "cell_type": "code",
   "execution_count": 3,
   "id": "f8052e55",
   "metadata": {},
   "outputs": [
    {
     "data": {
      "text/plain": [
       "'h'"
      ]
     },
     "execution_count": 3,
     "metadata": {},
     "output_type": "execute_result"
    }
   ],
   "source": [
    "a = 'hello world'\n",
    "\n",
    "a[0] # h는 0번 그럼 1번은 e가 됨"
   ]
  },
  {
   "cell_type": "markdown",
   "id": "f2366b33",
   "metadata": {},
   "source": [
    "### -1 인덱스 (ㄹㅇ 이거 사기)\n",
    "- 다른 언어와는 달리, python의 경우 음수 인덱스를 지원\n",
    "- -1이 가장 마지막 인덱스를 가리킴, 그럼 마지막 앞에 있는건 -2가 됨"
   ]
  },
  {
   "cell_type": "code",
   "execution_count": 4,
   "id": "52bf91fa",
   "metadata": {},
   "outputs": [
    {
     "name": "stdout",
     "output_type": "stream",
     "text": [
      "d\n",
      "c\n"
     ]
    }
   ],
   "source": [
    "a = 'abcd'\n",
    "\n",
    "print(a[-1]) # 마지막 문자 d가 출력 \n",
    "print(a[-2]) # 마지막 앞에 문자 c가 출력"
   ]
  },
  {
   "cell_type": "markdown",
   "id": "280a80a1",
   "metadata": {},
   "source": [
    "### 인덱스의 범위\n",
    "- 인덱스는 0 ~ 문자열의 길이 범위까지만 유효함 \n",
    "- 음수 인덱스를 사용할 경우 | -문자열의 길이, -1 |\n",
    "- 범위를 넘어갈 경우 에러 발생\n",
    "    - 문자열의 길이를 편하게 구하려면 len(변수명)을 사용하자 "
   ]
  },
  {
   "cell_type": "code",
   "execution_count": 5,
   "id": "97b6f657",
   "metadata": {},
   "outputs": [
    {
     "data": {
      "text/plain": [
       "11"
      ]
     },
     "execution_count": 5,
     "metadata": {},
     "output_type": "execute_result"
    }
   ],
   "source": [
    "a = 'Hello World'\n",
    "len(a) "
   ]
  },
  {
   "cell_type": "markdown",
   "id": "f254b718",
   "metadata": {},
   "source": [
    "만약 벗어난다면 아래와 같이 에러가 나게 됨"
   ]
  },
  {
   "cell_type": "code",
   "execution_count": 6,
   "id": "f1b0a48d",
   "metadata": {},
   "outputs": [
    {
     "ename": "IndexError",
     "evalue": "string index out of range",
     "output_type": "error",
     "traceback": [
      "\u001b[1;31m---------------------------------------------------------------------------\u001b[0m",
      "\u001b[1;31mIndexError\u001b[0m                                Traceback (most recent call last)",
      "\u001b[1;32m~\\AppData\\Local\\Temp\\ipykernel_18868\\2944729969.py\u001b[0m in \u001b[0;36m<module>\u001b[1;34m\u001b[0m\n\u001b[1;32m----> 1\u001b[1;33m \u001b[0mprint\u001b[0m\u001b[1;33m(\u001b[0m\u001b[0ma\u001b[0m\u001b[1;33m[\u001b[0m\u001b[1;36m11\u001b[0m\u001b[1;33m]\u001b[0m\u001b[1;33m)\u001b[0m\u001b[1;33m\u001b[0m\u001b[1;33m\u001b[0m\u001b[0m\n\u001b[0m",
      "\u001b[1;31mIndexError\u001b[0m: string index out of range"
     ]
    }
   ],
   "source": [
    "print(a[11]) # 인덱스는 0부터 시작이니까 0 ~ 10까지만 유효"
   ]
  },
  {
   "cell_type": "markdown",
   "id": "ab7c4c1a",
   "metadata": {},
   "source": [
    "### 문자열 슬라이싱\n",
    "- 인덱스가 하나의 문자만을 추출한다면 슬라이싱은 부분 문자열 추출 가능\n",
    "- [시작 : 끝]처럼 명시하여 부분 문자열을 추출 \n",
    "- 시작, 끝 인덱스가 생략이라면 0부터 혹은 끝가지로 간주"
   ]
  },
  {
   "cell_type": "code",
   "execution_count": 11,
   "id": "31927fa8",
   "metadata": {},
   "outputs": [
    {
     "name": "stdout",
     "output_type": "stream",
     "text": [
      "모든 문자열 출력 : ABCDEFG\n",
      "부분 문자열 출력 : CD\n",
      "\n",
      "시작 인덱스가 생략된 문자열 출력 : ABCDEFG\n",
      "끝 인덱스가 생략된 문자열 출력 : ABCDEFG\n"
     ]
    }
   ],
   "source": [
    "a = 'ABCDEFG'\n",
    "a_len = len(a)\n",
    "\n",
    "print(f'모든 문자열 출력 : {a[0:a_len]}')\n",
    "print(f'부분 문자열 출력 : {a[2:4]}')\n",
    "print()\n",
    "\n",
    "print(f'시작 인덱스가 생략된 문자열 출력 : {a[:a_len]}')\n",
    "print(f'끝 인덱스가 생략된 문자열 출력 : {a[0:]}')"
   ]
  },
  {
   "cell_type": "markdown",
   "id": "0ed658e3",
   "metadata": {},
   "source": [
    "### 문자열 함수 \n",
    "- 문자열은 여러가지 기능 제공을 위한 함수를 내장 \n",
    "- 함수란 특정 기능을 하는 코드로 언제든지 호출하여 해당 기능을 구현 가능하도록 구성한 코드 "
   ]
  },
  {
   "cell_type": "markdown",
   "id": "0c892922",
   "metadata": {},
   "source": [
    "### 간단하게 3개만\n",
    "- **replace** \n",
    "    - 문자열 내의 특정 문자를 치환\n",
    "    - 사용법 : 변수이름.replace(\"바꾸고싶은문자\", \"바꿀문자\")\n",
    "    \n",
    "- **upper**\n",
    "    - 문자열 전체를 대문자로 전환\n",
    "    - 사용법 : 변수이름.upper()\n",
    "\n",
    "- **split**\n",
    "    - 문자열을 특정한 문자로 구분하여 문자열의 리스트로 치환\n",
    "    - 사용법 : 변수이름.split(\"특정한문자\")"
   ]
  },
  {
   "cell_type": "code",
   "execution_count": 13,
   "id": "f0535ed9",
   "metadata": {},
   "outputs": [
    {
     "name": "stdout",
     "output_type": "stream",
     "text": [
      "DbcdefDDD\n",
      "ABCDEFAAA\n"
     ]
    }
   ],
   "source": [
    "a = \"abcdefaaa\"\n",
    "\n",
    "print(a.replace(\"a\", \"D\")) # a만 대문자 D로 \n",
    "print(a.upper()) # 전체를 대문자로 "
   ]
  },
  {
   "cell_type": "code",
   "execution_count": 16,
   "id": "b6fdcd9b",
   "metadata": {},
   "outputs": [
    {
     "name": "stdout",
     "output_type": "stream",
     "text": [
      "['a', 'a', 'a', 'a', 'a', 'b', 'b', 'b', 'c', 'c', 'c']\n"
     ]
    }
   ],
   "source": [
    "b = \"a a a a a b b b c c c\"\n",
    "\n",
    "print(b.split()) # 만약 기준이 공백일 경우라면 생략가능"
   ]
  },
  {
   "cell_type": "code",
   "execution_count": 17,
   "id": "60e90d00",
   "metadata": {},
   "outputs": [
    {
     "name": "stdout",
     "output_type": "stream",
     "text": [
      "['a', 'a', 'a', 'a', 'a', 'a']\n"
     ]
    }
   ],
   "source": [
    "c = \"a,a,a,a,a,a\" # 만약 기준이 콤마와 같은 문자라면 안에 ','를 적어서 사용가능\n",
    "\n",
    "print(c.split(','))"
   ]
  }
 ],
 "metadata": {
  "kernelspec": {
   "display_name": "Python 3 (ipykernel)",
   "language": "python",
   "name": "python3"
  },
  "language_info": {
   "codemirror_mode": {
    "name": "ipython",
    "version": 3
   },
   "file_extension": ".py",
   "mimetype": "text/x-python",
   "name": "python",
   "nbconvert_exporter": "python",
   "pygments_lexer": "ipython3",
   "version": "3.9.13"
  }
 },
 "nbformat": 4,
 "nbformat_minor": 5
}
