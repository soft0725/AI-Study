{
 "cells": [
  {
   "cell_type": "markdown",
   "id": "c4e59524",
   "metadata": {},
   "source": [
    "### 반복문\n",
    "- 반복적인 작업을 가능하게 해주는 도구 \n",
    "- 특정 조건을 만족하는 경우 수행할 수 있음 (while)\n",
    "- 리스트, 문자열, 튜플 등 컬렉션 타입의 아이템을 하나씩 순회하면서 사용 가능 (for)\n",
    "- 코드 작업에서, 가장 많이 사용하는 구문 중 하나 \n",
    "- 주의할 점 : while을 사용할 경우, 반복을 멈추게 하는 장치가 필요 \n",
    "    - 그렇지 않으면 셀이 무한히 수행되어서 jupyter notebook이 다운되거나 컴퓨터가 터짐"
   ]
  },
  {
   "cell_type": "markdown",
   "id": "97882c9b",
   "metadata": {},
   "source": [
    "### while 키워드\n",
    "- while 뒤의 조건이 True일 경우, while 코드 블록을 계속 수행\n",
    "- while\n",
    "    - if와 마찬가지로 while문 아래의 들여쓰기로 작성된 부분을 의미 \n",
    "- 조건이 False가 되면 수행을 멈추고 이후 코드를 실행 "
   ]
  },
  {
   "cell_type": "markdown",
   "id": "42854308",
   "metadata": {},
   "source": [
    "while을 사용해서 리스트의 아이템 출력하기 "
   ]
  },
  {
   "cell_type": "code",
   "execution_count": 1,
   "id": "f2f3deac",
   "metadata": {},
   "outputs": [
    {
     "name": "stdout",
     "output_type": "stream",
     "text": [
      "1\n",
      "2\n",
      "3\n",
      "4\n",
      "5\n"
     ]
    }
   ],
   "source": [
    "a = [1, 2, 3, 4, 5] \n",
    "i = 0 # a의 인덱스를 표현 \n",
    "\n",
    "while i < len(a):\n",
    "    print(a[i])\n",
    "    i += 1 # 이 부분을 추가하지 않으면 i가 무한히 len(a)보다 작기 때문에 \n",
    "           # 컴퓨터가 다운될 수 있음 "
   ]
  },
  {
   "cell_type": "markdown",
   "id": "67498407",
   "metadata": {},
   "source": [
    "### 무한루프 \n",
    "- while의 경우 종료가 되지 않도록 코드를 작성하면 블록에서 빠져나올 수 없음"
   ]
  },
  {
   "cell_type": "markdown",
   "id": "f5373eb8",
   "metadata": {},
   "source": [
    "### break\n",
    "- loop를 중단할 때 사용\n",
    "- 보통 조건문 안에서 수행되며, 조건을 만족하는 경우 loop를 탈출하기 위해 사용\n",
    "- loop를 중단하는 경우, while 이후의 코드를 수행"
   ]
  },
  {
   "cell_type": "code",
   "execution_count": 2,
   "id": "c10dbb5b",
   "metadata": {},
   "outputs": [
    {
     "name": "stdout",
     "output_type": "stream",
     "text": [
      "0\n",
      "1\n",
      "2\n",
      "3\n",
      "4\n",
      "5\n",
      "6\n",
      "7\n",
      "8\n",
      "9\n",
      "while 종료\n"
     ]
    }
   ],
   "source": [
    "i = 0\n",
    "\n",
    "while True:\n",
    "    print(i)\n",
    "    if i == 9:\n",
    "        break\n",
    "    i += 1\n",
    "        \n",
    "print('while 종료')"
   ]
  },
  {
   "cell_type": "markdown",
   "id": "33849772",
   "metadata": {},
   "source": [
    "### continue \n",
    "- break 처럼 반복을 중단하여 빠져나오진 않고, 다시 while로 점프함 \n",
    "- 특정한 경우에는 코드를 수행하지 않고 다음으로 건너 뛰기 위해 사용"
   ]
  },
  {
   "cell_type": "code",
   "execution_count": 3,
   "id": "00ca3563",
   "metadata": {},
   "outputs": [
    {
     "name": "stdout",
     "output_type": "stream",
     "text": [
      "1\n",
      "0\n",
      "-1\n"
     ]
    }
   ],
   "source": [
    "a = 3\n",
    "\n",
    "while a >= 0:\n",
    "    a -= 1\n",
    "    if a == 2: # 2는 출력되지 않음 \n",
    "        continue\n",
    "    print(a)"
   ]
  },
  {
   "cell_type": "markdown",
   "id": "bf8ce5c2",
   "metadata": {},
   "source": [
    "### 1 ~ 100까지 더하기"
   ]
  },
  {
   "cell_type": "code",
   "execution_count": 4,
   "id": "a5c6618c",
   "metadata": {},
   "outputs": [
    {
     "name": "stdout",
     "output_type": "stream",
     "text": [
      "5050\n"
     ]
    }
   ],
   "source": [
    "start = 1\n",
    "sum = 0\n",
    "\n",
    "while start <= 100:\n",
    "    sum += start \n",
    "    start += 1\n",
    "    \n",
    "print(sum)"
   ]
  },
  {
   "cell_type": "markdown",
   "id": "d9dd19df",
   "metadata": {},
   "source": [
    "### for 반복문 \n",
    "- 리스트, 문자열 등등 순회 가능한 객체를 순회하면서 값을 처리할 때 사용 "
   ]
  },
  {
   "cell_type": "code",
   "execution_count": 7,
   "id": "c37b0b25",
   "metadata": {},
   "outputs": [
    {
     "name": "stdout",
     "output_type": "stream",
     "text": [
      "1\n",
      "4\n",
      "3\n"
     ]
    }
   ],
   "source": [
    "a = [1, 4, 3]\n",
    "\n",
    "\n",
    "for i in a:\n",
    "    print(i)"
   ]
  },
  {
   "cell_type": "markdown",
   "id": "d860fa1b",
   "metadata": {},
   "source": [
    "### 문자열의 아이템 출력하기 \n",
    "- 문자열의 경우 순회 가능, 리스트와 유사하게 순회 가능"
   ]
  },
  {
   "cell_type": "code",
   "execution_count": 10,
   "id": "09691211",
   "metadata": {},
   "outputs": [
    {
     "name": "stdout",
     "output_type": "stream",
     "text": [
      "h\n",
      "e\n",
      "l\n",
      "l\n",
      "o\n",
      " \n",
      "w\n",
      "o\n",
      "r\n",
      "l\n",
      "d\n"
     ]
    }
   ],
   "source": [
    "c = 'hello world'\n",
    "\n",
    "for i in c:\n",
    "    print(i)"
   ]
  },
  {
   "cell_type": "code",
   "execution_count": 11,
   "id": "3a9cb85d",
   "metadata": {},
   "outputs": [
    {
     "ename": "TypeError",
     "evalue": "'int' object is not iterable",
     "output_type": "error",
     "traceback": [
      "\u001b[1;31m---------------------------------------------------------------------------\u001b[0m",
      "\u001b[1;31mTypeError\u001b[0m                                 Traceback (most recent call last)",
      "\u001b[1;32m~\\AppData\\Local\\Temp\\ipykernel_3696\\676487075.py\u001b[0m in \u001b[0;36m<module>\u001b[1;34m\u001b[0m\n\u001b[1;32m----> 1\u001b[1;33m \u001b[1;32mfor\u001b[0m \u001b[0mi\u001b[0m \u001b[1;32min\u001b[0m \u001b[1;36m10\u001b[0m\u001b[1;33m:\u001b[0m\u001b[1;33m\u001b[0m\u001b[1;33m\u001b[0m\u001b[0m\n\u001b[0m\u001b[0;32m      2\u001b[0m     \u001b[0mprint\u001b[0m\u001b[1;33m(\u001b[0m\u001b[0mi\u001b[0m\u001b[1;33m)\u001b[0m\u001b[1;33m\u001b[0m\u001b[1;33m\u001b[0m\u001b[0m\n",
      "\u001b[1;31mTypeError\u001b[0m: 'int' object is not iterable"
     ]
    }
   ],
   "source": [
    "for i in 10:\n",
    "    print(i)"
   ]
  },
  {
   "cell_type": "markdown",
   "id": "b4de9819",
   "metadata": {},
   "source": [
    "정수형, 실수형과 같은 인덱스가 없는 친구들은 불가능"
   ]
  },
  {
   "cell_type": "markdown",
   "id": "18412c9c",
   "metadata": {},
   "source": [
    "### dict의 아이템 출력하기 \n",
    "- dictionary의 경우 기본적으로 순회 하게 되면 key값을 참조 \n",
    "- keys()함수를 이용하여 key 값만 순회 가능\n",
    "- values()함수를 이용하여 value값만 순회 가능\n",
    "- items()함수를 이용하여 tuple형태로 key, value 순회 가능"
   ]
  },
  {
   "cell_type": "code",
   "execution_count": 12,
   "id": "37085df1",
   "metadata": {},
   "outputs": [
    {
     "name": "stdout",
     "output_type": "stream",
     "text": [
      "kor\n",
      "jap\n"
     ]
    }
   ],
   "source": [
    "a = {'kor':'seoul', 'jap':'tokyo'}\n",
    "\n",
    "for k in a:\n",
    "    print(k) # 키 값만 출력"
   ]
  },
  {
   "cell_type": "code",
   "execution_count": 15,
   "id": "dc8e07a4",
   "metadata": {},
   "outputs": [
    {
     "name": "stdout",
     "output_type": "stream",
     "text": [
      "seoul\n",
      "tokyo\n"
     ]
    }
   ],
   "source": [
    "for v in a.values(): # 뒤에 함수를 사용하므로서 벨류값만 가져옴 \n",
    "    print(v)"
   ]
  },
  {
   "cell_type": "code",
   "execution_count": 16,
   "id": "c864e469",
   "metadata": {},
   "outputs": [
    {
     "name": "stdout",
     "output_type": "stream",
     "text": [
      "kor seoul\n",
      "jap tokyo\n"
     ]
    }
   ],
   "source": [
    "for a, b in a.items():\n",
    "    print(a, b)"
   ]
  },
  {
   "cell_type": "markdown",
   "id": "0b6ed0b7",
   "metadata": {},
   "source": [
    "a에는 키값이, b에는 벨류값이 들어감 "
   ]
  },
  {
   "cell_type": "markdown",
   "id": "d5717ffa",
   "metadata": {},
   "source": [
    "### for에서 index 사용하기 \n",
    "- 기본적으로 for에 리스트를 순회하는 경우, 값만 추출함 \n",
    "- 아래와 같은 코드를 쓴다면 인덱스와 값 모두 가능 (enumerate 함수 이용)"
   ]
  },
  {
   "cell_type": "code",
   "execution_count": 17,
   "id": "95a021ab",
   "metadata": {},
   "outputs": [
    {
     "name": "stdout",
     "output_type": "stream",
     "text": [
      "0 1\n",
      "1 2\n",
      "2 3\n"
     ]
    }
   ],
   "source": [
    "a = [1, 2, 3]\n",
    "\n",
    "for i, v in enumerate(a):\n",
    "    print(i, v)"
   ]
  },
  {
   "cell_type": "markdown",
   "id": "97aad9be",
   "metadata": {},
   "source": [
    "### 위에 while에서 사용한 break, continue 다 사용 가능\n",
    "- 위에 while같이 사용 가능"
   ]
  },
  {
   "cell_type": "code",
   "execution_count": 18,
   "id": "f303d9f2",
   "metadata": {},
   "outputs": [
    {
     "data": {
      "text/plain": [
       "[1,\n",
       " 2,\n",
       " 3,\n",
       " 4,\n",
       " 5,\n",
       " 6,\n",
       " 7,\n",
       " 8,\n",
       " 9,\n",
       " 10,\n",
       " 11,\n",
       " 12,\n",
       " 13,\n",
       " 14,\n",
       " 15,\n",
       " 16,\n",
       " 17,\n",
       " 18,\n",
       " 19,\n",
       " 20,\n",
       " 21,\n",
       " 22,\n",
       " 23,\n",
       " 24,\n",
       " 25,\n",
       " 26,\n",
       " 27,\n",
       " 28,\n",
       " 29,\n",
       " 30,\n",
       " 31,\n",
       " 32,\n",
       " 33,\n",
       " 34,\n",
       " 35,\n",
       " 36,\n",
       " 37,\n",
       " 38,\n",
       " 39,\n",
       " 40,\n",
       " 41,\n",
       " 42,\n",
       " 43,\n",
       " 44,\n",
       " 45,\n",
       " 46,\n",
       " 47,\n",
       " 48,\n",
       " 49,\n",
       " 50,\n",
       " 51,\n",
       " 52,\n",
       " 53,\n",
       " 54,\n",
       " 55,\n",
       " 56,\n",
       " 57,\n",
       " 58,\n",
       " 59,\n",
       " 60,\n",
       " 61,\n",
       " 62,\n",
       " 63,\n",
       " 64,\n",
       " 65,\n",
       " 66,\n",
       " 67,\n",
       " 68,\n",
       " 69,\n",
       " 70,\n",
       " 71,\n",
       " 72,\n",
       " 73,\n",
       " 74,\n",
       " 75,\n",
       " 76,\n",
       " 77,\n",
       " 78,\n",
       " 79,\n",
       " 80,\n",
       " 81,\n",
       " 82,\n",
       " 83,\n",
       " 84,\n",
       " 85,\n",
       " 86,\n",
       " 87,\n",
       " 88,\n",
       " 89,\n",
       " 90,\n",
       " 91,\n",
       " 92,\n",
       " 93,\n",
       " 94,\n",
       " 95,\n",
       " 96,\n",
       " 97,\n",
       " 98,\n",
       " 99]"
      ]
     },
     "execution_count": 18,
     "metadata": {},
     "output_type": "execute_result"
    }
   ],
   "source": [
    "# 그냥 간단한건데 1 ~ 100인 리스트를 만드는 코드 \n",
    "a = list(range(1, 100))\n",
    "a"
   ]
  }
 ],
 "metadata": {
  "kernelspec": {
   "display_name": "Python 3 (ipykernel)",
   "language": "python",
   "name": "python3"
  },
  "language_info": {
   "codemirror_mode": {
    "name": "ipython",
    "version": 3
   },
   "file_extension": ".py",
   "mimetype": "text/x-python",
   "name": "python",
   "nbconvert_exporter": "python",
   "pygments_lexer": "ipython3",
   "version": "3.9.13"
  }
 },
 "nbformat": 4,
 "nbformat_minor": 5
}
