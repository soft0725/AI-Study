{
 "cells": [
  {
   "cell_type": "markdown",
   "id": "8f25f548",
   "metadata": {},
   "source": [
    "### condiftion (조건문)\n",
    "- 특정 조건을 ㅁ나족하는 경우에만 수행할 작업이 있는 경우 사용 \n",
    "- 모든 조건은 boolean으로 표현 됨 \n",
    "- if, else, elif 키워드가 사용 \n",
    "- 조건문의 경우 if, else, elif 블록에 종속된 코드는 들여쓰리로 표현 가능 \n",
    "- 아래코드와 같이 조건문 아래에 들여쓰기된 1줄의 코드만이 조건문의조건에 따라 수행될 수도, 수행되지 않을 수도 있는 코드라고 할 수 있음\n",
    "- 들여쓰기 된 코드를 블록(block), 또는 코드블록이라고 함\n",
    "- python에서의 모든 블록의 시작점의 마지막에는 : 추가가 필요\n",
    "``` python\n",
    "if True :\n",
    "    print('이것은 참일 때만 실행됩니다.')\n",
    "print('이것은 항상 실행 됩니다.')\n",
    "```"
   ]
  },
  {
   "cell_type": "markdown",
   "id": "ee66b783",
   "metadata": {},
   "source": [
    "- 조건문에서 사용되는 조건의 경우 boolean이기 때문에, 논리식 AND, OR, NOT 이 사용 가능 \n",
    "    - AND : and \n",
    "    - OR : or \n",
    "    - NOT : not \n",
    "    - 논리표는 생략하겠음\n",
    "- 우선순위\n",
    "    - NOT > AND > OR "
   ]
  },
  {
   "cell_type": "code",
   "execution_count": 1,
   "id": "3a1e30db",
   "metadata": {},
   "outputs": [
    {
     "name": "stdout",
     "output_type": "stream",
     "text": [
      "True\n",
      "False\n",
      "False\n"
     ]
    }
   ],
   "source": [
    "# AND \n",
    "print(True and True)\n",
    "print(True and False)\n",
    "print(False and False)"
   ]
  },
  {
   "cell_type": "markdown",
   "id": "dcb7ab97",
   "metadata": {},
   "source": [
    "AND는 둘 다 참일 때만 실행"
   ]
  },
  {
   "cell_type": "code",
   "execution_count": 2,
   "id": "c46834fd",
   "metadata": {},
   "outputs": [
    {
     "name": "stdout",
     "output_type": "stream",
     "text": [
      "True\n",
      "True\n",
      "False\n"
     ]
    }
   ],
   "source": [
    "# OR\n",
    "print(True or True)\n",
    "print(True or False)\n",
    "print(False or False)"
   ]
  },
  {
   "cell_type": "markdown",
   "id": "393faee0",
   "metadata": {},
   "source": [
    "OR은 하나라도 참일 때 실행"
   ]
  },
  {
   "cell_type": "code",
   "execution_count": 3,
   "id": "8774a184",
   "metadata": {},
   "outputs": [
    {
     "name": "stdout",
     "output_type": "stream",
     "text": [
      "False\n",
      "True\n"
     ]
    }
   ],
   "source": [
    "# not\n",
    "print(not True)\n",
    "print(not False)"
   ]
  },
  {
   "cell_type": "markdown",
   "id": "50329b20",
   "metadata": {},
   "source": [
    "NOT은 값의 반대를 출력"
   ]
  },
  {
   "cell_type": "markdown",
   "id": "2a559029",
   "metadata": {},
   "source": [
    "### 만약 if의 조건이 bool이 아닌 경우\n",
    "- 일반적으로 조건문에는 bool이 주로 위치함 \n",
    "- 하지만 정수, 실수, 문자열 리스트 등 기본 타입도 조건에 사용 가능 \n",
    "- False로 간주되는 값 \n",
    "    - None\n",
    "    - 0\n",
    "    - 0.0\n",
    "    - ''\n",
    "    - [] 빈 리스트 \n",
    "    - () 빈 튜플 \n",
    "    - {} 빈 딕셔너리\n",
    "    - set() 빈 집합 \n",
    "- 그 밖에는 모두 True즉 참으로 간주"
   ]
  },
  {
   "cell_type": "code",
   "execution_count": 4,
   "id": "1779ce64",
   "metadata": {},
   "outputs": [
    {
     "name": "stdout",
     "output_type": "stream",
     "text": [
      "b는 참\n"
     ]
    }
   ],
   "source": [
    "a = 0\n",
    "b = 1\n",
    "\n",
    "if a:\n",
    "    print('a는 참')\n",
    "if b:\n",
    "    print('b는 참')"
   ]
  },
  {
   "cell_type": "markdown",
   "id": "78e852a5",
   "metadata": {},
   "source": [
    "a는 0이기 때문에 False값을 가지게 되며 b는 1이기 때문에 True값을 가지게 됨"
   ]
  },
  {
   "cell_type": "markdown",
   "id": "17f017e4",
   "metadata": {},
   "source": [
    "### if, else \n",
    "- if가 아닌 경우, 나머지 조건을 표현하고 싶다면 바로 아래 else 사용 \n",
    "- 이 경우, if 조건이 True인 경우 if 코드가 수행, 거짓인 경우 else 블락의 코드가 수행 \n",
    "- 주의 할 점 : if와 else 사이에 다른 코드 삽입 불가 "
   ]
  },
  {
   "cell_type": "code",
   "execution_count": 5,
   "id": "f30ad72d",
   "metadata": {},
   "outputs": [
    {
     "name": "stdout",
     "output_type": "stream",
     "text": [
      "짝수\n"
     ]
    }
   ],
   "source": [
    "# 짝수인 경우만 출력하는 프로그램 \n",
    "a = 10\n",
    "\n",
    "if a % 2 == 0:\n",
    "    print('짝수')\n",
    "else:\n",
    "    print('홀수')"
   ]
  },
  {
   "cell_type": "markdown",
   "id": "3f338a63",
   "metadata": {},
   "source": [
    "### elif \n",
    "- 조건이 여러 개인 경우 사용 가능\n",
    "- 사용 방법은 if 아래에 적어주면 되고 if와 동일함"
   ]
  },
  {
   "cell_type": "code",
   "execution_count": 6,
   "id": "4ceb065a",
   "metadata": {},
   "outputs": [
    {
     "name": "stdout",
     "output_type": "stream",
     "text": [
      "a는  3\n"
     ]
    }
   ],
   "source": [
    "# 숫자가 1, 2, 3 중에 어떤 것인지 맞추는 프로그램 \n",
    "a = 3\n",
    "\n",
    "if a == 1:\n",
    "    print('a는 ', a)\n",
    "elif a == 2:\n",
    "    print('a는 ', a)\n",
    "else:\n",
    "    print('a는 ', a)"
   ]
  },
  {
   "cell_type": "markdown",
   "id": "f3f72ec2",
   "metadata": {},
   "source": [
    "### 중첩 조건문(nested condition)\n",
    "- 조건문의 경우 중첩하여 작성 가능\n",
    "- 중첩의 의미는 depth(깊이)로 생각할 수 있으며, depth의 제한은 없음"
   ]
  },
  {
   "cell_type": "code",
   "execution_count": 7,
   "id": "2453b83d",
   "metadata": {},
   "outputs": [
    {
     "name": "stdout",
     "output_type": "stream",
     "text": [
      "정답\n"
     ]
    }
   ],
   "source": [
    "# a와 b가 10, 20일 때 정답인 프로그램\n",
    "a = 10\n",
    "b = 20\n",
    "\n",
    "if a == 10:\n",
    "    if b == 20:\n",
    "        print('정답')\n",
    "    else:\n",
    "        print('오답')"
   ]
  },
  {
   "cell_type": "markdown",
   "id": "b6e58d4c",
   "metadata": {},
   "source": [
    "위처럼 사용할 수 있겠지만 논리 연산자를 사용하여 편리하게 작성 가능"
   ]
  },
  {
   "cell_type": "code",
   "execution_count": 8,
   "id": "c11cbfc5",
   "metadata": {},
   "outputs": [
    {
     "name": "stdout",
     "output_type": "stream",
     "text": [
      "정답\n"
     ]
    }
   ],
   "source": [
    "a = 10\n",
    "b = 20\n",
    "\n",
    "if a == 10 and b == 20:\n",
    "    print('정답')\n",
    "else:\n",
    "    print('오답')"
   ]
  }
 ],
 "metadata": {
  "kernelspec": {
   "display_name": "Python 3 (ipykernel)",
   "language": "python",
   "name": "python3"
  },
  "language_info": {
   "codemirror_mode": {
    "name": "ipython",
    "version": 3
   },
   "file_extension": ".py",
   "mimetype": "text/x-python",
   "name": "python",
   "nbconvert_exporter": "python",
   "pygments_lexer": "ipython3",
   "version": "3.9.13"
  }
 },
 "nbformat": 4,
 "nbformat_minor": 5
}
