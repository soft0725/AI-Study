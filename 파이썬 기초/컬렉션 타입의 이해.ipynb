{
 "cells": [
  {
   "cell_type": "markdown",
   "id": "dfa6dfc2",
   "metadata": {},
   "source": [
    "# 컬렉션 타입의 종류"
   ]
  },
  {
   "cell_type": "markdown",
   "id": "59c738b0",
   "metadata": {},
   "source": [
    "### **리스트 튜플 딕셔너리 세트**"
   ]
  },
  {
   "cell_type": "markdown",
   "id": "41d5bed5",
   "metadata": {},
   "source": [
    "### 리스트 & 튜플 \n",
    "- 복수개의 값을 담을 수 있는 데이터 구조\n",
    "- 실생활에서 사용하는 리스트(학생 리스트)와 같은 의미로 이해\n",
    "- 리스트 - **생성된 후에 변경 가능**\n",
    "- 튜플 - **생성된 후에 변경 불가능**"
   ]
  },
  {
   "cell_type": "markdown",
   "id": "2c8ea66c",
   "metadata": {},
   "source": [
    "### 리스트 초기화\n",
    "- [] 안에 값을 담아서 생성\n",
    "- list() 함수로 생성 \n",
    "- str.split() 함수로 생성"
   ]
  },
  {
   "cell_type": "code",
   "execution_count": 1,
   "id": "5d41ff25",
   "metadata": {},
   "outputs": [
    {
     "name": "stdout",
     "output_type": "stream",
     "text": [
      "[]\n"
     ]
    }
   ],
   "source": [
    "a = []\n",
    "print(a) # 비어있는 리스트가 출력됨 "
   ]
  },
  {
   "cell_type": "code",
   "execution_count": 2,
   "id": "ed41085b",
   "metadata": {},
   "outputs": [
    {
     "name": "stdout",
     "output_type": "stream",
     "text": [
      "[1, 2, 3]\n"
     ]
    }
   ],
   "source": [
    "a = [1, 2, 3]\n",
    "print(a) # 값이 있는 리스트는 잘 나옴"
   ]
  },
  {
   "cell_type": "code",
   "execution_count": 3,
   "id": "f0475f39",
   "metadata": {},
   "outputs": [
    {
     "name": "stdout",
     "output_type": "stream",
     "text": [
      "['안녕', 11.1, 10, True]\n"
     ]
    }
   ],
   "source": [
    "a = ['안녕', 11.1,  10, True] # 자료형 상관 X\n",
    "print(a)"
   ]
  },
  {
   "cell_type": "markdown",
   "id": "d2d451b9",
   "metadata": {},
   "source": [
    "- list() 함수  \n",
    "    - 다른 데이터 타입을 리스트로 변환할 때도 사용"
   ]
  },
  {
   "cell_type": "code",
   "execution_count": 4,
   "id": "193cac17",
   "metadata": {},
   "outputs": [
    {
     "name": "stdout",
     "output_type": "stream",
     "text": [
      "['H', 'e', 'l', 'l', 'o', ' ', 'W', 'o', 'r', 'l', 'd']\n"
     ]
    }
   ],
   "source": [
    "a = 'Hello World'\n",
    "b = list(a)\n",
    "print(b)"
   ]
  },
  {
   "cell_type": "markdown",
   "id": "f7ac46d9",
   "metadata": {},
   "source": [
    "문자열이 주어지면 하나하나 나뉘어서 리스트에 담음"
   ]
  },
  {
   "cell_type": "markdown",
   "id": "ba9c913f",
   "metadata": {},
   "source": [
    "- string split 함수\n",
    "    - 구분자로 구분되는 리스트를 반환 (빈번히 사용 됨)"
   ]
  },
  {
   "cell_type": "code",
   "execution_count": 5,
   "id": "35c673b4",
   "metadata": {},
   "outputs": [
    {
     "name": "stdout",
     "output_type": "stream",
     "text": [
      "['Hello', 'World']\n"
     ]
    }
   ],
   "source": [
    "a = 'Hello World'\n",
    "b = a.split()\n",
    "print(b)"
   ]
  },
  {
   "cell_type": "markdown",
   "id": "daff83d0",
   "metadata": {},
   "source": [
    "### 리스트 인덱싱\n",
    "- 문자열의 인덱싱과 동일하게 동장\n",
    "- [] 연산자를 이용하여 항목 얻어오기 \n",
    "- [i] - i번째 원소를 반환\n",
    "- i가 음수인 경우에도 사용이 가능하며 -1로 하여 앞으로 갈때마다 1씩 감소 "
   ]
  },
  {
   "cell_type": "code",
   "execution_count": 7,
   "id": "28aa8f62",
   "metadata": {},
   "outputs": [
    {
     "name": "stdout",
     "output_type": "stream",
     "text": [
      "1\n",
      "4\n"
     ]
    }
   ],
   "source": [
    "a = [1, 2, 3, 4, 5, 6]\n",
    "print(a[0])\n",
    "print(a[3])"
   ]
  },
  {
   "cell_type": "markdown",
   "id": "b1dc1a6b",
   "metadata": {},
   "source": [
    "### 리스트 개별 아이템에 접근\n",
    "- 인덱스에 접근하여 값을 업데이트 가능"
   ]
  },
  {
   "cell_type": "code",
   "execution_count": 8,
   "id": "ea8fb45c",
   "metadata": {
    "scrolled": true
   },
   "outputs": [
    {
     "name": "stdout",
     "output_type": "stream",
     "text": [
      "[100, 2, 3, 4, 5, 6]\n"
     ]
    }
   ],
   "source": [
    "a = [1, 2, 3, 4, 5, 6]\n",
    "a[0] = 100 # a의 0번째 인덱스인 1을 100으로 변경\n",
    "print(a)"
   ]
  },
  {
   "cell_type": "markdown",
   "id": "76773bb3",
   "metadata": {},
   "source": [
    "만약 문자열일 경우 에러가 발생함  \n",
    "이유 : **문자열은 불변이기 때문**\n",
    "- 불편은 한 번 생성되면 다시 바뀔 수 없음\n",
    "    - 하지만 리스트 쓰면 가능함"
   ]
  },
  {
   "cell_type": "code",
   "execution_count": 10,
   "id": "12904100",
   "metadata": {},
   "outputs": [
    {
     "name": "stdout",
     "output_type": "stream",
     "text": [
      "H\n"
     ]
    },
    {
     "ename": "TypeError",
     "evalue": "'str' object does not support item assignment",
     "output_type": "error",
     "traceback": [
      "\u001b[1;31m---------------------------------------------------------------------------\u001b[0m",
      "\u001b[1;31mTypeError\u001b[0m                                 Traceback (most recent call last)",
      "\u001b[1;32m~\\AppData\\Local\\Temp\\ipykernel_11632\\3141809227.py\u001b[0m in \u001b[0;36m<module>\u001b[1;34m\u001b[0m\n\u001b[0;32m      1\u001b[0m \u001b[0ma\u001b[0m \u001b[1;33m=\u001b[0m \u001b[1;34m'Hello World'\u001b[0m\u001b[1;33m\u001b[0m\u001b[1;33m\u001b[0m\u001b[0m\n\u001b[0;32m      2\u001b[0m \u001b[0mprint\u001b[0m\u001b[1;33m(\u001b[0m\u001b[0ma\u001b[0m\u001b[1;33m[\u001b[0m\u001b[1;36m0\u001b[0m\u001b[1;33m]\u001b[0m\u001b[1;33m)\u001b[0m\u001b[1;33m\u001b[0m\u001b[1;33m\u001b[0m\u001b[0m\n\u001b[1;32m----> 3\u001b[1;33m \u001b[0ma\u001b[0m\u001b[1;33m[\u001b[0m\u001b[1;36m0\u001b[0m\u001b[1;33m]\u001b[0m \u001b[1;33m=\u001b[0m \u001b[1;34m'K'\u001b[0m\u001b[1;33m\u001b[0m\u001b[1;33m\u001b[0m\u001b[0m\n\u001b[0m\u001b[0;32m      4\u001b[0m \u001b[0mprint\u001b[0m\u001b[1;33m(\u001b[0m\u001b[0ma\u001b[0m\u001b[1;33m)\u001b[0m\u001b[1;33m\u001b[0m\u001b[1;33m\u001b[0m\u001b[0m\n",
      "\u001b[1;31mTypeError\u001b[0m: 'str' object does not support item assignment"
     ]
    }
   ],
   "source": [
    "a = 'Hello World'\n",
    "print(a[0])\n",
    "a[0] = 'K'\n",
    "print(a)"
   ]
  },
  {
   "cell_type": "code",
   "execution_count": 12,
   "id": "17a30c4c",
   "metadata": {},
   "outputs": [
    {
     "name": "stdout",
     "output_type": "stream",
     "text": [
      "['K', 'e', 'l', 'l', 'o', ' ', 'W', 'o', 'r', 'l', 'd']\n"
     ]
    }
   ],
   "source": [
    "a = 'Hello World'\n",
    "b = list(a)\n",
    "b[0] = 'K'\n",
    "a = b[:]\n",
    "print(a) # 나머지 코드는 생략"
   ]
  },
  {
   "cell_type": "markdown",
   "id": "9cd75faa",
   "metadata": {},
   "source": [
    "### 리스트 슬라이싱\n",
    "- 문자열 슬라이싱과 동일하게 동작\n",
    "- 슬라이싱의 결과 역시 list"
   ]
  },
  {
   "cell_type": "code",
   "execution_count": 14,
   "id": "4d04959c",
   "metadata": {},
   "outputs": [
    {
     "name": "stdout",
     "output_type": "stream",
     "text": [
      "[1, 3, 5]\n"
     ]
    }
   ],
   "source": [
    "a = [1, 2, 3, 4, 5, 6]\n",
    "print(a[4:6])\n",
    "\n",
    "# 슬라이싱에는 :: <- 이것을 두개를 사용 할 수 있음 \n",
    "# 시작 : 끝 : 값 \n",
    "\n",
    "print(a[0::2]) # 그러면 2칸씩 건너감"
   ]
  },
  {
   "cell_type": "markdown",
   "id": "135d5ac4",
   "metadata": {},
   "source": [
    "### list 멤버 함수 \n",
    "- 생성된 리스트 객체에 동작하는 함수 "
   ]
  },
  {
   "cell_type": "markdown",
   "id": "da1cab53",
   "metadata": {},
   "source": [
    "- append()\n",
    "    - 리스트의 끝에 항목을 추가함 "
   ]
  },
  {
   "cell_type": "code",
   "execution_count": 18,
   "id": "7efb4aa7",
   "metadata": {},
   "outputs": [
    {
     "name": "stdout",
     "output_type": "stream",
     "text": [
      "['값 추가']\n"
     ]
    }
   ],
   "source": [
    "a = []\n",
    "a.append('값 추가')\n",
    "print(a)"
   ]
  },
  {
   "cell_type": "markdown",
   "id": "43e7007f",
   "metadata": {},
   "source": [
    "- extend()\n",
    "    - 리스트를 연장\n",
    "    - += 으로도 가능"
   ]
  },
  {
   "cell_type": "code",
   "execution_count": 22,
   "id": "e54e67f4",
   "metadata": {},
   "outputs": [
    {
     "name": "stdout",
     "output_type": "stream",
     "text": [
      "[1, 2, 3, 4, 5, 6]\n",
      "[1, 2, 3, 4, 5, 6]\n"
     ]
    }
   ],
   "source": [
    "a = [1, 2, 3]\n",
    "b = [4, 5, 6]\n",
    "print(a + b) # 둘다 가능\n",
    "\n",
    "a.extend(b)\n",
    "print(a)"
   ]
  },
  {
   "cell_type": "markdown",
   "id": "3783e517",
   "metadata": {},
   "source": [
    "- insert()로 항목추가\n",
    "    - 리스트의 원하는 위치에 추가 가능\n",
    "    - 앞에 인덱스를, 뒤에 아이템을 명시"
   ]
  },
  {
   "cell_type": "code",
   "execution_count": 23,
   "id": "676400b4",
   "metadata": {},
   "outputs": [
    {
     "name": "stdout",
     "output_type": "stream",
     "text": [
      "[1, 40, 2, 3, 4, 5, 6]\n"
     ]
    }
   ],
   "source": [
    "a = [1, 2, 3, 4, 5, 6]\n",
    "a.insert(1,40) # 인덱스 1번에 40이라는 값 추가\n",
    "\n",
    "print(a)"
   ]
  },
  {
   "cell_type": "markdown",
   "id": "433fcc5a",
   "metadata": {},
   "source": [
    "- remove()\n",
    "    - 값으로 항목 삭제"
   ]
  },
  {
   "cell_type": "code",
   "execution_count": 24,
   "id": "bc9fb1fe",
   "metadata": {},
   "outputs": [
    {
     "name": "stdout",
     "output_type": "stream",
     "text": [
      "[1, 3, 4]\n"
     ]
    }
   ],
   "source": [
    "a = [1, 2, 3, 4]\n",
    "a.remove(2)\n",
    "\n",
    "print(a)"
   ]
  },
  {
   "cell_type": "markdown",
   "id": "3702638a",
   "metadata": {},
   "source": [
    "- pop()\n",
    "    - 지우고자 하는 아이템을 반환 후, 삭제"
   ]
  },
  {
   "cell_type": "code",
   "execution_count": 3,
   "id": "fca8b032",
   "metadata": {},
   "outputs": [
    {
     "name": "stdout",
     "output_type": "stream",
     "text": [
      "[1, 2, 3, 4]\n",
      "[1, 3, 4, 5]\n"
     ]
    }
   ],
   "source": [
    "a = [1, 2, 3, 4, 5]\n",
    "a.pop() # 인덱스 값을 적지 않았을 때는 그냥 뒤에만 지움 \n",
    "print(a)\n",
    "\n",
    "a = [1, 2, 3, 4, 5]\n",
    "a.pop(1) # 인덱스 값을 적어주면 1 번 인덱스에 있는 2가 빠짐\n",
    "print(a) "
   ]
  },
  {
   "cell_type": "markdown",
   "id": "4138c8ab",
   "metadata": {},
   "source": [
    "### index()\n",
    "- 찾고자 하는 값의 인덱스 반환"
   ]
  },
  {
   "cell_type": "code",
   "execution_count": 5,
   "id": "3c352d83",
   "metadata": {},
   "outputs": [
    {
     "name": "stdout",
     "output_type": "stream",
     "text": [
      "2\n"
     ]
    }
   ],
   "source": [
    "a = [1, 2, 3, 4, 5, 6]\n",
    "print(a.index(3)) # 값이 3인 인덱스는 3번 "
   ]
  },
  {
   "cell_type": "markdown",
   "id": "b4c16f6f",
   "metadata": {},
   "source": [
    "### in 키워드 \n",
    "- 리스트 내에 해당 값이 존재하는지 확인 \n",
    "- value in [list]\n",
    "- True, False 중 한가지로 반환"
   ]
  },
  {
   "cell_type": "code",
   "execution_count": 6,
   "id": "9c47e5bc",
   "metadata": {},
   "outputs": [
    {
     "name": "stdout",
     "output_type": "stream",
     "text": [
      "False\n"
     ]
    }
   ],
   "source": [
    "a = [1, 2, 3, 4, 5, 10]\n",
    "b = 7\n",
    "\n",
    "c = b in a # a에 b라는 값이 있는가? \n",
    "print(c) # ㄴ 없음 "
   ]
  },
  {
   "cell_type": "markdown",
   "id": "c7511e1e",
   "metadata": {},
   "source": [
    "### list 정렬\n",
    "- sort() -> 리스트 자체를 내부적으로 정렬 \n",
    "- sorted() -> 리스트의 정렬된 복사본을 반환"
   ]
  },
  {
   "cell_type": "code",
   "execution_count": 16,
   "id": "39abea3b",
   "metadata": {},
   "outputs": [
    {
     "name": "stdout",
     "output_type": "stream",
     "text": [
      "[10, 8, 4, 3, 2]\n"
     ]
    }
   ],
   "source": [
    "a = [10, 8, 4, 3, 2] # 랜덤한 리스트\n",
    "# a.sort() # 오름차순으로 정렬 \n",
    "a.sort(reverse=True) # 내림차순으로 정렬\n",
    "\n",
    "print(a)"
   ]
  },
  {
   "cell_type": "code",
   "execution_count": 17,
   "id": "cc00aa9e",
   "metadata": {},
   "outputs": [
    {
     "name": "stdout",
     "output_type": "stream",
     "text": [
      "[2, 3, 4, 8, 10]\n"
     ]
    }
   ],
   "source": [
    "a = [10, 8, 4, 3, 2] # 위와 동일한 리스트 \n",
    "\n",
    "b = sorted(a)\n",
    "\n",
    "print(b)"
   ]
  },
  {
   "cell_type": "markdown",
   "id": "e168d431",
   "metadata": {},
   "source": [
    "## tuple\n",
    "- 리스트와 같이 복수개의 값을 갖는 컬렉션 타입\n",
    "- 생성된 후 변경이 불가능"
   ]
  },
  {
   "cell_type": "code",
   "execution_count": 20,
   "id": "2eac9a0e",
   "metadata": {},
   "outputs": [
    {
     "name": "stdout",
     "output_type": "stream",
     "text": [
      "<class 'list'>\n",
      "<class 'tuple'>\n",
      "[100, 2, 3]\n"
     ]
    }
   ],
   "source": [
    "a = [1, 2, 3]\n",
    "b = (1, 2, 3)\n",
    "\n",
    "print(type(a))\n",
    "print(type(b))\n",
    "\n",
    "a[0] = 100\n",
    "print(a)"
   ]
  },
  {
   "cell_type": "code",
   "execution_count": 22,
   "id": "e2d3407f",
   "metadata": {},
   "outputs": [
    {
     "ename": "TypeError",
     "evalue": "'tuple' object does not support item assignment",
     "output_type": "error",
     "traceback": [
      "\u001b[1;31m---------------------------------------------------------------------------\u001b[0m",
      "\u001b[1;31mTypeError\u001b[0m                                 Traceback (most recent call last)",
      "\u001b[1;32m~\\AppData\\Local\\Temp\\ipykernel_6736\\3386442573.py\u001b[0m in \u001b[0;36m<module>\u001b[1;34m\u001b[0m\n\u001b[1;32m----> 1\u001b[1;33m \u001b[0mb\u001b[0m\u001b[1;33m[\u001b[0m\u001b[1;36m0\u001b[0m\u001b[1;33m]\u001b[0m \u001b[1;33m=\u001b[0m \u001b[1;36m100\u001b[0m\u001b[1;33m\u001b[0m\u001b[1;33m\u001b[0m\u001b[0m\n\u001b[0m\u001b[0;32m      2\u001b[0m \u001b[0mprint\u001b[0m\u001b[1;33m(\u001b[0m\u001b[0mb\u001b[0m\u001b[1;33m)\u001b[0m\u001b[1;33m\u001b[0m\u001b[1;33m\u001b[0m\u001b[0m\n",
      "\u001b[1;31mTypeError\u001b[0m: 'tuple' object does not support item assignment"
     ]
    }
   ],
   "source": [
    "b[0] = 100 \n",
    "print(b) "
   ]
  },
  {
   "cell_type": "markdown",
   "id": "f1c683c3",
   "metadata": {},
   "source": [
    "튜플은 위에서 말 했던것 처럼 생성된 후 변경이 불가능함"
   ]
  },
  {
   "cell_type": "markdown",
   "id": "fdc014cc",
   "metadata": {},
   "source": [
    "### tuple unpacking\n",
    "- 튜플의 값을 차례대로 변수에 대입"
   ]
  },
  {
   "cell_type": "code",
   "execution_count": 24,
   "id": "453fee15",
   "metadata": {},
   "outputs": [
    {
     "name": "stdout",
     "output_type": "stream",
     "text": [
      "<class 'tuple'>\n",
      "<class 'tuple'>\n"
     ]
    }
   ],
   "source": [
    "a = (100, 200)\n",
    "print(type(a))\n",
    "\n",
    "b = 100, 200 # 이처럼 괄호를 하지 않아도 튜플로 처리됨\n",
    "print(type(b))"
   ]
  },
  {
   "cell_type": "markdown",
   "id": "cc574e8b",
   "metadata": {},
   "source": [
    "### 딕셔너리\n",
    "- 키와 값을 갖는 데이터 구조\n",
    "- 키는 내부적으로 hash값으로 저장 \n",
    "- 순서를 따지지 않음. 즉, 인덱스가 없음\n",
    "    - 앞은 키, 뒤는 벨류"
   ]
  },
  {
   "cell_type": "code",
   "execution_count": 5,
   "id": "e9e6843d",
   "metadata": {},
   "outputs": [
    {
     "name": "stdout",
     "output_type": "stream",
     "text": [
      "6\n"
     ]
    }
   ],
   "source": [
    "a = {'Korea' : 'Seoul', \n",
    "     'Canada' : 'Ottawa'}\n",
    "\n",
    "b = {0:1, 1:6, 7:9, 8:10}\n",
    "\n",
    "print(b[1])"
   ]
  },
  {
   "cell_type": "markdown",
   "id": "9ee94e43",
   "metadata": {},
   "source": [
    "### 항목 추가 및 변경\n",
    "- 기존에 키가 존재 하면, 새로운 값으로 업데이트 \n",
    "- 존재하지 않으면, 새로운 키, 값 생성"
   ]
  },
  {
   "cell_type": "code",
   "execution_count": 10,
   "id": "90d31196",
   "metadata": {},
   "outputs": [
    {
     "name": "stdout",
     "output_type": "stream",
     "text": [
      "{'Korea': 'Seoul', 'Canada': 'Ottawa', 'Japan': 'Tokyo'}\n"
     ]
    }
   ],
   "source": [
    "a['Japan'] = 'Tokyo'\n",
    "\n",
    "print(a) # 추가된 모습을 확인 할 수 있음"
   ]
  },
  {
   "cell_type": "code",
   "execution_count": 11,
   "id": "dc87886a",
   "metadata": {},
   "outputs": [
    {
     "name": "stdout",
     "output_type": "stream",
     "text": [
      "{'Korea': 'Seoul', 'Canada': 'Ottawa', 'Japan': 'None'}\n"
     ]
    }
   ],
   "source": [
    "a['Japan'] = 'None'\n",
    "\n",
    "print(a)"
   ]
  },
  {
   "cell_type": "markdown",
   "id": "6db33010",
   "metadata": {},
   "source": [
    "만약 키에 해당하는 값이 똑같다면 마지막에 실행한 값으로 업데이트를 함"
   ]
  },
  {
   "cell_type": "markdown",
   "id": "3f7ea8e7",
   "metadata": {},
   "source": [
    "### update()\n",
    "- 두 딕셔너리를 병합함\n",
    "- 겹치는 키가 있다면 parameter로 전달되는 키 값이 overwrite된다."
   ]
  },
  {
   "cell_type": "code",
   "execution_count": 12,
   "id": "a7655ace",
   "metadata": {},
   "outputs": [
    {
     "name": "stdout",
     "output_type": "stream",
     "text": [
      "{'a': 2, 'b': 2, 'c': 3, 'd': 4, 'e': 5}\n"
     ]
    }
   ],
   "source": [
    "a = {'a':1, 'b':2, 'c':3}\n",
    "b = {'a':2, 'd':4, 'e':5}\n",
    "\n",
    "a.update(b) # a에 b값을 업데이트함 \n",
    "# 만약 a에 b와 겹치는 키가 있다면 b의 키로 업데이트 \n",
    "\n",
    "print(a) # 마지막에 a가 2로 업데이트된 모습"
   ]
  },
  {
   "cell_type": "markdown",
   "id": "987dec76",
   "metadata": {},
   "source": [
    "### key삭제 \n",
    "- del 키워드 사용\n",
    "- pop 함수 이용"
   ]
  },
  {
   "cell_type": "code",
   "execution_count": 16,
   "id": "65bafe30",
   "metadata": {},
   "outputs": [
    {
     "name": "stdout",
     "output_type": "stream",
     "text": [
      "{'a': 1, 'b': 2, 'c': 3}\n",
      "{'a': 1, 'c': 3}\n"
     ]
    }
   ],
   "source": [
    "a = {'a':1, 'b':2, 'c':3}\n",
    "print(a)\n",
    "\n",
    "# a.pop('b')\n",
    "# print(a) # 키가 b인 값이 삭제됨 \n",
    "\n",
    "del a['b']\n",
    "print(a)"
   ]
  },
  {
   "cell_type": "markdown",
   "id": "0d3b3e8e",
   "metadata": {},
   "source": [
    "### clear()\n",
    "- 딕셔너리의 모든 값을 초기화"
   ]
  },
  {
   "cell_type": "code",
   "execution_count": 17,
   "id": "c48969b2",
   "metadata": {},
   "outputs": [
    {
     "name": "stdout",
     "output_type": "stream",
     "text": [
      "{'a': 1, 'c': 3}\n",
      "{}\n"
     ]
    }
   ],
   "source": [
    "print(a)\n",
    "a.clear()\n",
    "print(a)"
   ]
  },
  {
   "cell_type": "markdown",
   "id": "07128e34",
   "metadata": {},
   "source": [
    "### in\n",
    "- key값 존재 확인 \n",
    "- O(1) 연산 - 딕셔너리의 크기와 관계없이 항상 연산의 속도가 일정하다는 의미"
   ]
  },
  {
   "cell_type": "code",
   "execution_count": 20,
   "id": "ef2068f6",
   "metadata": {},
   "outputs": [
    {
     "name": "stdout",
     "output_type": "stream",
     "text": [
      "{'a': 1, 'b': 2, 'c': 3}\n"
     ]
    },
    {
     "data": {
      "text/plain": [
       "False"
      ]
     },
     "execution_count": 20,
     "metadata": {},
     "output_type": "execute_result"
    }
   ],
   "source": [
    "a = {'a':1, 'b':2, 'c':3}\n",
    "print(a)\n",
    "\n",
    "# 'b' in a\n",
    "'d' in a"
   ]
  },
  {
   "cell_type": "markdown",
   "id": "fdbbe332",
   "metadata": {},
   "source": [
    "딕셔너리는 키를 찾는데 빠르지만 만약 리스트에서 in을 사용하면 엄청난 성능 저하가 생길 수 있음"
   ]
  },
  {
   "cell_type": "markdown",
   "id": "ad054201",
   "metadata": {},
   "source": [
    "### value access\n",
    "- dict[key]로 접근, 키가 없는 경우 에러 발생\n",
    "- .get()함수로 접근, 키가 없는 경우 None 반환"
   ]
  },
  {
   "cell_type": "code",
   "execution_count": 26,
   "id": "0ba1ba54",
   "metadata": {},
   "outputs": [
    {
     "name": "stdout",
     "output_type": "stream",
     "text": [
      "None\n",
      "1\n"
     ]
    }
   ],
   "source": [
    "#  a['d'] 키가 없는 경우 에러가 발생해서 프로그램이 죽어버림 \n",
    "# 하지만 get을 사용하면 프로그램이 죽지 않음 \n",
    "print(a.get('d'))\n",
    "print(a.get('a'))"
   ]
  },
  {
   "cell_type": "markdown",
   "id": "7301166a",
   "metadata": {},
   "source": [
    "### 모든 keys, values 접근\n",
    "- keys() - 키만 반환\n",
    "- values() - 값만 반환\n",
    "- items() - 키, 값의 튜플을 반환"
   ]
  },
  {
   "cell_type": "code",
   "execution_count": 34,
   "id": "9e290810",
   "metadata": {},
   "outputs": [
    {
     "name": "stdout",
     "output_type": "stream",
     "text": [
      "{'a': 1, 'b': 2, 'c': 3}\n",
      "dict_keys(['a', 'b', 'c'])\n",
      "dict_values([1, 2, 3])\n",
      "\n",
      "['a', 'b', 'c']\n"
     ]
    }
   ],
   "source": [
    "print(a)\n",
    "print(a.keys())\n",
    "print(a.values()) \n",
    "# 위 값들을 리스트로 변경시켜서 사용 가능 \n",
    "\n",
    "Keys = list(a.keys())\n",
    "print()\n",
    "print(Keys) # 이렇게 사용 가능"
   ]
  },
  {
   "cell_type": "markdown",
   "id": "6ed71073",
   "metadata": {},
   "source": [
    "## set\n",
    "- dictionary에서 key만 활용하는 데이터 구조로 이해 \n",
    "- 수학에서의 집합과 동일한 개념 "
   ]
  },
  {
   "cell_type": "code",
   "execution_count": 35,
   "id": "01811dce",
   "metadata": {},
   "outputs": [
    {
     "name": "stdout",
     "output_type": "stream",
     "text": [
      "{1, 2, 3, 4, 5, 6}\n"
     ]
    },
    {
     "ename": "TypeError",
     "evalue": "'set' object is not subscriptable",
     "output_type": "error",
     "traceback": [
      "\u001b[1;31m---------------------------------------------------------------------------\u001b[0m",
      "\u001b[1;31mTypeError\u001b[0m                                 Traceback (most recent call last)",
      "\u001b[1;32m~\\AppData\\Local\\Temp\\ipykernel_12328\\3616438616.py\u001b[0m in \u001b[0;36m<module>\u001b[1;34m\u001b[0m\n\u001b[0;32m      2\u001b[0m \u001b[0mprint\u001b[0m\u001b[1;33m(\u001b[0m\u001b[0ma\u001b[0m\u001b[1;33m)\u001b[0m\u001b[1;33m\u001b[0m\u001b[1;33m\u001b[0m\u001b[0m\n\u001b[0;32m      3\u001b[0m \u001b[1;33m\u001b[0m\u001b[0m\n\u001b[1;32m----> 4\u001b[1;33m \u001b[0mprint\u001b[0m\u001b[1;33m(\u001b[0m\u001b[0ma\u001b[0m\u001b[1;33m[\u001b[0m\u001b[1;36m0\u001b[0m\u001b[1;33m]\u001b[0m\u001b[1;33m)\u001b[0m\u001b[1;33m\u001b[0m\u001b[1;33m\u001b[0m\u001b[0m\n\u001b[0m",
      "\u001b[1;31mTypeError\u001b[0m: 'set' object is not subscriptable"
     ]
    }
   ],
   "source": [
    "a = {1, 1, 2, 3, 4, 5, 6, 5, 3}\n",
    "print(a)\n",
    "\n",
    "print(a[0])"
   ]
  },
  {
   "cell_type": "markdown",
   "id": "40ca11e5",
   "metadata": {},
   "source": [
    "세트는 인덱싱이 안됨 즉 순서가 없음  \n",
    "또한 중복을 허용하지 않음"
   ]
  },
  {
   "cell_type": "code",
   "execution_count": 36,
   "id": "d1e748ef",
   "metadata": {},
   "outputs": [
    {
     "data": {
      "text/plain": [
       "set"
      ]
     },
     "execution_count": 36,
     "metadata": {},
     "output_type": "execute_result"
    }
   ],
   "source": [
    "a = set()\n",
    "type(a)"
   ]
  },
  {
   "cell_type": "markdown",
   "id": "aa917e65",
   "metadata": {},
   "source": [
    "### set()으로 집합으로 변환"
   ]
  },
  {
   "cell_type": "code",
   "execution_count": 37,
   "id": "a776e467",
   "metadata": {},
   "outputs": [
    {
     "name": "stdout",
     "output_type": "stream",
     "text": [
      "[1, 1, 2, 3, 3, 4, 1, 5]\n",
      "{1, 2, 3, 4, 5}\n"
     ]
    }
   ],
   "source": [
    "a = [1, 1, 2, 3, 3, 4, 1, 5]\n",
    "print(a)\n",
    "\n",
    "b = set(a)\n",
    "print(b)"
   ]
  },
  {
   "cell_type": "markdown",
   "id": "7e9390db",
   "metadata": {},
   "source": [
    "### set operations\n",
    "- 수학 연산과 동일\n",
    "- 교집합, 합집합, 차집합 등 지원"
   ]
  },
  {
   "cell_type": "code",
   "execution_count": 41,
   "id": "65d01035",
   "metadata": {},
   "outputs": [
    {
     "name": "stdout",
     "output_type": "stream",
     "text": [
      "{1, 2, 3, 4}\n",
      "{2, 3}\n",
      "{1}\n",
      "False\n"
     ]
    }
   ],
   "source": [
    "a = {1, 2, 3}\n",
    "b = {2, 3, 4}\n",
    "\n",
    "print(a.union(b)) # 합집합\n",
    "print(a.intersection(b)) # 교집합\n",
    "print(a.difference(b)) # 차집합\n",
    "print(a.issubset(b)) # 부분 집합"
   ]
  }
 ],
 "metadata": {
  "kernelspec": {
   "display_name": "Python 3 (ipykernel)",
   "language": "python",
   "name": "python3"
  },
  "language_info": {
   "codemirror_mode": {
    "name": "ipython",
    "version": 3
   },
   "file_extension": ".py",
   "mimetype": "text/x-python",
   "name": "python",
   "nbconvert_exporter": "python",
   "pygments_lexer": "ipython3",
   "version": "3.9.13"
  }
 },
 "nbformat": 4,
 "nbformat_minor": 5
}
