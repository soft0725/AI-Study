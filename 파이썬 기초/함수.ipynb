{
 "cells": [
  {
   "cell_type": "markdown",
   "id": "b9521372",
   "metadata": {},
   "source": [
    "### 함수란 \n",
    "- 함수란 우리가 알고있는 개념처럼 주어진 입력에 대해서 의도된 출력을 전달하는 역할을 함\n",
    "> range 함수는 정수를 입력으로 전달하면 (0, 정수)로 이루어진 리스트를 생성하는 역할을 함 \n",
    "\n",
    "    > sum 함수는 리스트, 튜플등의 입력으로 전달하면 전체 아이템의 합을 출력으로 전달하는 역할을 함 \n",
    "\n",
    "    > len 함수는 리스트, 튜플등을 입력으로 전달하면 아이템의 개수를 출력으로 전달하는 역할을 함 \n",
    "    \n",
    "- 그리고 위의 함수들은 모두 python 내부에 이미 정의되어 있음 \n",
    "- 위와 같은 함수를 내장함수(built-in function)이라고 함 "
   ]
  },
  {
   "cell_type": "code",
   "execution_count": 1,
   "id": "1260457a",
   "metadata": {},
   "outputs": [
    {
     "data": {
      "text/plain": [
       "3"
      ]
     },
     "execution_count": 1,
     "metadata": {},
     "output_type": "execute_result"
    }
   ],
   "source": [
    "# 내장 함수의 예 \n",
    "a = [1, 2, 3]\n",
    "length = len(a)\n",
    "length"
   ]
  },
  {
   "cell_type": "markdown",
   "id": "747d4543",
   "metadata": {},
   "source": [
    "len은 리스트의 길이를 받고 length이라는 변수에 값을 반환함"
   ]
  },
  {
   "cell_type": "markdown",
   "id": "936b41fc",
   "metadata": {},
   "source": [
    "### 함수의 정의\n",
    "- 정의 시 최초에 def 키워드 사용 \n",
    "- argument 정의 (함수에 입력으로 전달하는 값을 의미, argument 또는 parameter라고 함)\n",
    "- : -> 함수 역시 코드 블록이기 때문에 클론(:) 필요\n",
    "- body (함수의 구현 부분, 함수 역시 코드 블록이기 때문에 들여쓰기 된 부분까지 함수의 코드블록으로 인지함)\n",
    "    - 함수를 호출한 코드 (caller)로 함수가 해당 기능을 수행하고 완료된 값을 전달하기 위해 return 사용 \n",
    "    - 즉 return 이후에 오는 값을 caller로 전달 \n",
    "- 함수의 네이밍 역시 중요함 \n",
    "    - 어떤 기능을 하는 함수인지 이름으로 최대한 나타날 수 있게 해야함 \n",
    "    - e.g) get_a X get_student_name O"
   ]
  },
  {
   "cell_type": "code",
   "execution_count": 2,
   "id": "6b219b5d",
   "metadata": {},
   "outputs": [],
   "source": [
    "def add(x, y): # 괄호 안에는 인자가 옴 (x, y 즉 2개의 입력)\n",
    "    return x + y"
   ]
  },
  {
   "cell_type": "code",
   "execution_count": 3,
   "id": "4b23b456",
   "metadata": {},
   "outputs": [
    {
     "name": "stdout",
     "output_type": "stream",
     "text": [
      "3\n"
     ]
    }
   ],
   "source": [
    "l = len([1, 2, 3])\n",
    "c = add(1, 2)\n",
    "print(c)"
   ]
  },
  {
   "cell_type": "code",
   "execution_count": 4,
   "id": "76d3606c",
   "metadata": {},
   "outputs": [
    {
     "ename": "TypeError",
     "evalue": "add() missing 2 required positional arguments: 'x' and 'y'",
     "output_type": "error",
     "traceback": [
      "\u001b[1;31m---------------------------------------------------------------------------\u001b[0m",
      "\u001b[1;31mTypeError\u001b[0m                                 Traceback (most recent call last)",
      "\u001b[1;32m~\\AppData\\Local\\Temp\\ipykernel_14224\\134690028.py\u001b[0m in \u001b[0;36m<module>\u001b[1;34m\u001b[0m\n\u001b[1;32m----> 1\u001b[1;33m \u001b[0mb\u001b[0m \u001b[1;33m=\u001b[0m \u001b[0madd\u001b[0m\u001b[1;33m(\u001b[0m\u001b[1;33m)\u001b[0m\u001b[1;33m\u001b[0m\u001b[1;33m\u001b[0m\u001b[0m\n\u001b[0m",
      "\u001b[1;31mTypeError\u001b[0m: add() missing 2 required positional arguments: 'x' and 'y'"
     ]
    }
   ],
   "source": [
    "b = add()"
   ]
  },
  {
   "cell_type": "markdown",
   "id": "f1497ea1",
   "metadata": {},
   "source": [
    "함수에는 2가지 입력이 있어야 하는데 없어서 나는 에러"
   ]
  },
  {
   "cell_type": "markdown",
   "id": "c972a298",
   "metadata": {},
   "source": [
    "###  함수 네이밍\n",
    "- 함수 이름으로부터 기능이 명시 \n",
    "- 의미와 반대되거나 맞지 않는 이름은 사용 금지"
   ]
  },
  {
   "cell_type": "markdown",
   "id": "07da30e8",
   "metadata": {},
   "source": [
    "### parameter(argument) (인자)\n",
    "- 함수에 전달되는 입력(input)\n",
    "- 입력이 필요하지 않을 수도, 1개의 입력만 있을 수도, 여러개의 입력이 존재할 수도 있음 \n",
    "- 파라미터로 int, stirng, bool, list .. 등등 파이썬 객체도 전달이 가능\n",
    "- 심지어, 함수도 함수의 파라미터로 전달 가능\n",
    "- python의 경우 타입 명시가 없기 때문에 함수 생성 시, 의도된 파라밑의 타입에 맞게 입력을 전달하는 것이 중요\n",
    "- 또한 파라미터를 전달 할 때, 정의된 순서에 따라 값을 전달하는 것이 중요 "
   ]
  },
  {
   "cell_type": "code",
   "execution_count": 5,
   "id": "0f436c52",
   "metadata": {},
   "outputs": [
    {
     "name": "stdout",
     "output_type": "stream",
     "text": [
      "10 20\n",
      "30\n"
     ]
    }
   ],
   "source": [
    "def test(x, y):\n",
    "    print(x, y)\n",
    "    return x + y\n",
    "\n",
    "a = test(10, 20)\n",
    "print(a)"
   ]
  },
  {
   "cell_type": "markdown",
   "id": "a120825e",
   "metadata": {},
   "source": [
    "### Default parameter (기본 인자)\n",
    "- 함수의 파라미터에 기본값 지정 가능\n",
    "- 파라미터를 명시하지 않을 경우, 지정된 기본값으로 대체"
   ]
  },
  {
   "cell_type": "code",
   "execution_count": 8,
   "id": "38642416",
   "metadata": {},
   "outputs": [
    {
     "data": {
      "text/plain": [
       "35"
      ]
     },
     "execution_count": 8,
     "metadata": {},
     "output_type": "execute_result"
    }
   ],
   "source": [
    "def add(x, y, z=5):\n",
    "    a = x + y + z\n",
    "    return a\n",
    "\n",
    "add(10, 20) # 아무리 여기에서 z를 생략해도 됨\n",
    "            # 이미 z에는 5를 주고있음"
   ]
  },
  {
   "cell_type": "markdown",
   "id": "464ba0b5",
   "metadata": {},
   "source": [
    "### 기본 파라미터의 다른 예\n",
    "- print 함수\n",
    "    - sep, end, file등 열 기본 파라미터를 가짐"
   ]
  },
  {
   "cell_type": "code",
   "execution_count": 11,
   "id": "5a285bef",
   "metadata": {},
   "outputs": [
    {
     "name": "stdout",
     "output_type": "stream",
     "text": [
      "1!2!3\n"
     ]
    }
   ],
   "source": [
    "print(1, 2, 3, sep='!')"
   ]
  },
  {
   "cell_type": "markdown",
   "id": "1ac06d20",
   "metadata": {},
   "source": [
    "### Default parameter 사용 시 주의점\n",
    "- 디폴트 파라미터 뒤에 일반 파라미터가 위치할 수 없음\n",
    "- e.g) 올바른 예\n",
    "    > def test(a, b, c=1)\n",
    "    \n",
    "    > def test(a,b=1, c=2)\n",
    "    \n",
    "    > def test(a=1, b=2, c=3)\n",
    "- e.g) 올바르지 않은 예\n",
    "    > def test(a, b=1, c)\n",
    "    \n",
    "    > def test(a=1, b, c)\n",
    "    \n",
    "    > def test(a=1, b=2, c)"
   ]
  },
  {
   "cell_type": "code",
   "execution_count": 12,
   "id": "047fe948",
   "metadata": {},
   "outputs": [
    {
     "name": "stdout",
     "output_type": "stream",
     "text": [
      "10 20 1\n"
     ]
    }
   ],
   "source": [
    "def test(a, b, c=1):\n",
    "    print(a, b, c)\n",
    "\n",
    "test(10, 20, 1)"
   ]
  },
  {
   "cell_type": "code",
   "execution_count": 13,
   "id": "4e3dca5f",
   "metadata": {},
   "outputs": [
    {
     "ename": "SyntaxError",
     "evalue": "non-default argument follows default argument (1527759963.py, line 1)",
     "output_type": "error",
     "traceback": [
      "\u001b[1;36m  File \u001b[1;32m\"C:\\Users\\a0102\\AppData\\Local\\Temp\\ipykernel_14224\\1527759963.py\"\u001b[1;36m, line \u001b[1;32m1\u001b[0m\n\u001b[1;33m    def test(a, b=3, c):\u001b[0m\n\u001b[1;37m                      ^\u001b[0m\n\u001b[1;31mSyntaxError\u001b[0m\u001b[1;31m:\u001b[0m non-default argument follows default argument\n"
     ]
    }
   ],
   "source": [
    "def test(a, b=3, c):\n",
    "    print(a, b, c)\n",
    "\n",
    "test(10, 20, 1)"
   ]
  },
  {
   "cell_type": "markdown",
   "id": "ae350dad",
   "metadata": {},
   "source": [
    "### keyword parameter (키워드 파라미터)\n",
    "- 파이썬의 경우 파라미터에 값을 전달 할 때, 파라미터의 이름을 명시하여 전달 가능\n",
    "- 파라미터 이름을 사용하지 않을 경우, 기본적으로 순서에 맞게 전달"
   ]
  },
  {
   "cell_type": "code",
   "execution_count": 15,
   "id": "4229befc",
   "metadata": {},
   "outputs": [
    {
     "name": "stdout",
     "output_type": "stream",
     "text": [
      "10 30 20\n"
     ]
    },
    {
     "data": {
      "text/plain": [
       "60"
      ]
     },
     "execution_count": 15,
     "metadata": {},
     "output_type": "execute_result"
    }
   ],
   "source": [
    "def test(x, y, z):\n",
    "    a = x + y + z\n",
    "    print(x, y, z)\n",
    "    return a\n",
    "\n",
    "test(x = 10, z = 20, y = 30) # 키워드 파라미터를 이용해서 전달 "
   ]
  },
  {
   "cell_type": "markdown",
   "id": "04688a47",
   "metadata": {},
   "source": [
    "### 리턴\n",
    "- 기본적으로 함수의 종료를 명시\n",
    "    - return 옆에 값이나 수식이 있다면 해당 값을 호출자(caller)에게 반환\n",
    "    - return 만 존재하면 None 반환\n",
    "    - return이 없는 경우, 기본적으로 함수 코드 블록이 종료되면 종료로 간주, 이때도 None 반환"
   ]
  },
  {
   "cell_type": "code",
   "execution_count": 17,
   "id": "155a1944",
   "metadata": {},
   "outputs": [
    {
     "data": {
      "text/plain": [
       "15"
      ]
     },
     "execution_count": 17,
     "metadata": {},
     "output_type": "execute_result"
    }
   ],
   "source": [
    "def multiply(x, y):\n",
    "    if x > 10:\n",
    "        return x * y\n",
    "    \n",
    "    return (x + 2) * y\n",
    "\n",
    "multiply(1, 5) # x는 10보다 작기 때문에  3 * 5가 실행됨"
   ]
  },
  {
   "cell_type": "markdown",
   "id": "6a28c881",
   "metadata": {},
   "source": [
    "### mutiple return (복수 값 반환)\n",
    "- tuple반환을 하여 복수개의 값 리턴 가능"
   ]
  },
  {
   "cell_type": "code",
   "execution_count": 18,
   "id": "87bedfd1",
   "metadata": {},
   "outputs": [
    {
     "name": "stdout",
     "output_type": "stream",
     "text": [
      "<class 'tuple'>\n",
      "(30, 200)\n"
     ]
    }
   ],
   "source": [
    "def add_mul(x, y):\n",
    "    s = x + y\n",
    "    m = x * y\n",
    "    return s, m # 복수개의 값을 반환하는 것 처럼 보이지만 실상은 튜플\n",
    "\n",
    "c = add_mul(10, 20)\n",
    "print(type(c))\n",
    "print(c)"
   ]
  },
  {
   "cell_type": "markdown",
   "id": "064adb36",
   "metadata": {},
   "source": [
    "### variable scope(변수의 범위)\n",
    "- 변수가 참조 가능한 코드상의 범위를 명시 \n",
    "- 함수내의 변수는 자신이 속한 코드 블록이 종료되면 소멸됨 \n",
    "- 이렇게 특정 코드 블록에서 선언된 변수를 **지역변수(local variable) 이**라고함\n",
    "- 반대로 가장 상단엣 정의되어 프로그램 종료 전까지 유지되는 변수를 **전역변수(global variable)이라고 함\n",
    "- 같은 이름의 지역변수와 전역변수가 존재할 경우, 지역변수의 우선순위가 더 높음"
   ]
  },
  {
   "cell_type": "code",
   "execution_count": 19,
   "id": "3ba2e678",
   "metadata": {},
   "outputs": [
    {
     "name": "stdout",
     "output_type": "stream",
     "text": [
      "30 40\n",
      "10 30\n"
     ]
    }
   ],
   "source": [
    "num1 = 10\n",
    "num2 = 30\n",
    "\n",
    "def test(num1, num2):\n",
    "    print(num1, num2)\n",
    "    return num1 + num2\n",
    "\n",
    "test(30, 40)\n",
    "print(num1, num2) # 전역과 지역은 다른거"
   ]
  },
  {
   "cell_type": "markdown",
   "id": "cb9f73a8",
   "metadata": {},
   "source": [
    "### variable length argument (가변길이 인자)\n",
    "- 전달되는 파라미터의 개수가 고정적이지 않은 경우 사용 \n",
    "- e.g) \n",
    "    - print 함수 \n",
    "    - format 함수\n",
    "    \n",
    "    > ***args**, ****kwargs**\n",
    "    \n",
    "    > ***args** : 파라미터를 튜플의 형태로 전달\n",
    "    \n",
    "    > ****kwargs** : 파라미터를 딕셔너리 형태로 전달(네임드 파라미터)"
   ]
  },
  {
   "cell_type": "code",
   "execution_count": 20,
   "id": "53ba70ee",
   "metadata": {},
   "outputs": [
    {
     "name": "stdout",
     "output_type": "stream",
     "text": [
      "1 2 3 5 6 2 232 2 32 3 22 3423 1 23 1 23\n"
     ]
    }
   ],
   "source": [
    "print(1, 2, 3, 5, 6 ,2, 232,2,32,3,22,3423,1,23,1,23)"
   ]
  },
  {
   "cell_type": "markdown",
   "id": "a6f624d8",
   "metadata": {},
   "source": [
    "처리할 수 있는 파라미터가 동적임"
   ]
  },
  {
   "cell_type": "code",
   "execution_count": 23,
   "id": "fcd14794",
   "metadata": {},
   "outputs": [
    {
     "name": "stdout",
     "output_type": "stream",
     "text": [
      "1\n",
      "2\n",
      "3\n",
      "4\n"
     ]
    }
   ],
   "source": [
    "def test(*args): # 만약 가변길이를 쓴다면 arguments의 약자인 args를 쓰는것이 좋음 관례임\n",
    "    for item in args:\n",
    "        print(item)\n",
    "\n",
    "test(1, 2, 3, 4)"
   ]
  },
  {
   "cell_type": "markdown",
   "id": "142a47ad",
   "metadata": {},
   "source": [
    "keyword parameter (키워드 파라미터)\n",
    "- ****가 붙은 경우에는 키워드 파라미터로 인식**\n",
    "- 즉 함수 호출 시, 파라미터의 이름과 값을 함께 전달 가능"
   ]
  },
  {
   "cell_type": "code",
   "execution_count": 28,
   "id": "5df565cd",
   "metadata": {},
   "outputs": [
    {
     "name": "stdout",
     "output_type": "stream",
     "text": [
      "a 1\n",
      "b 2\n",
      "c 3\n",
      "name chan\n"
     ]
    }
   ],
   "source": [
    "def test2(**kwargs): # kwargs 또한 관례\n",
    "    for k, v in kwargs.items():\n",
    "        print(k, v)\n",
    "\n",
    "test2(a=1, b=2, c=3, name='chan')"
   ]
  },
  {
   "cell_type": "markdown",
   "id": "043af5fb",
   "metadata": {},
   "source": [
    "### 가변길이 함수의 대표적인 문자열 포맷 함수\n",
    "- 여러가지 값과 포맷을 이용하여 문자열을 정의할 수 있는 함수 \n",
    "- {} placeholder를 문자열 내에 위치 시킨 후, 해당 위치에 format 함수로 전달된 값으로 대체하여 문자열 생성"
   ]
  },
  {
   "cell_type": "code",
   "execution_count": 29,
   "id": "ee2d48ff",
   "metadata": {},
   "outputs": [
    {
     "name": "stdout",
     "output_type": "stream",
     "text": [
      "안녕\n"
     ]
    }
   ],
   "source": [
    "a = '안녕'\n",
    "print(a)"
   ]
  },
  {
   "cell_type": "code",
   "execution_count": 32,
   "id": "513e53bf",
   "metadata": {},
   "outputs": [
    {
     "name": "stdout",
     "output_type": "stream",
     "text": [
      "안녕 병찬\n"
     ]
    }
   ],
   "source": [
    "name = '병찬'\n",
    "\n",
    "a = '안녕 {}'.format(name)\n",
    "print(a)"
   ]
  }
 ],
 "metadata": {
  "kernelspec": {
   "display_name": "Python 3 (ipykernel)",
   "language": "python",
   "name": "python3"
  },
  "language_info": {
   "codemirror_mode": {
    "name": "ipython",
    "version": 3
   },
   "file_extension": ".py",
   "mimetype": "text/x-python",
   "name": "python",
   "nbconvert_exporter": "python",
   "pygments_lexer": "ipython3",
   "version": "3.9.13"
  }
 },
 "nbformat": 4,
 "nbformat_minor": 5
}
