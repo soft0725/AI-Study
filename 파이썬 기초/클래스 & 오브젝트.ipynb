{
 "cells": [
  {
   "cell_type": "markdown",
   "id": "79d9b28b",
   "metadata": {},
   "source": [
    "### 클래스란 \n",
    "- 실세계의 것을 모델링하여 속성(attribute)와 동작(method)를 갖는 데이터 타입\n",
    "- python에서의 string, int .. 모두가 다 클래스로 존재\n",
    "- 예를 들어 학생이라는 클래스를 만든다면, 학생을 나타내는 속성과 학생이 행하는 행동을 함께 정의 할 수 있음\n",
    "- 따라서 다루고자 하는 데이터(변수)와 데이터를 다루는 연산(함수)를 하나로 캡슐화(encapsulation)하여 클래스로 표현\n",
    "- 모델링에서 중요시 하는 속성에 따라 클래스의 속성과 행동이 달라짐"
   ]
  },
  {
   "cell_type": "code",
   "execution_count": 1,
   "id": "f9c213fc",
   "metadata": {},
   "outputs": [
    {
     "name": "stdout",
     "output_type": "stream",
     "text": [
      "[1, 2, 3, 4, 5]\n"
     ]
    }
   ],
   "source": [
    "a = [1, 2, 3, 4]\n",
    "a.append(5)\n",
    "print(a)"
   ]
  },
  {
   "cell_type": "markdown",
   "id": "2f483ac1",
   "metadata": {},
   "source": [
    "append()라는 메소드를 통해서 a의 속성을 바꿈"
   ]
  },
  {
   "cell_type": "markdown",
   "id": "61c9fd95",
   "metadata": {},
   "source": [
    "### object \n",
    "- 클래스로 생성되어 구체화된 객체(인스턴스)\n",
    "- 파이썬의 모든 것(int, str..)은 객체(인스턴스)\n",
    "- 실제로 class가 인스턴스화 되어 메모리에 상주하는 상태를 의미\n",
    "- class가 빵틀이라면, object는 실제로 빵틀로 찍어낸 빵이라고 비유 가능"
   ]
  },
  {
   "cell_type": "markdown",
   "id": "e1a2c5a1",
   "metadata": {},
   "source": [
    "### class 선언하기 \n",
    "- 객체를 생성하기 위해선 객체의 모체가 되는 class를 미리 선언해야 함"
   ]
  },
  {
   "cell_type": "code",
   "execution_count": 3,
   "id": "6626c1d0",
   "metadata": {
    "scrolled": true
   },
   "outputs": [
    {
     "ename": "IndentationError",
     "evalue": "expected an indented block (3523702532.py, line 1)",
     "output_type": "error",
     "traceback": [
      "\u001b[1;36m  File \u001b[1;32m\"C:\\Users\\a0102\\AppData\\Local\\Temp\\ipykernel_18032\\3523702532.py\"\u001b[1;36m, line \u001b[1;32m1\u001b[0m\n\u001b[1;33m    class Person:\u001b[0m\n\u001b[1;37m                 ^\u001b[0m\n\u001b[1;31mIndentationError\u001b[0m\u001b[1;31m:\u001b[0m expected an indented block\n"
     ]
    }
   ],
   "source": [
    "class Person:"
   ]
  },
  {
   "cell_type": "code",
   "execution_count": 4,
   "id": "dc0a3e1c",
   "metadata": {},
   "outputs": [],
   "source": [
    "class Person:\n",
    "    pass # 정의가 없고 그냥 실행만 시키고 싶을 때 사용"
   ]
  },
  {
   "cell_type": "code",
   "execution_count": 5,
   "id": "c353c26f",
   "metadata": {},
   "outputs": [
    {
     "name": "stdout",
     "output_type": "stream",
     "text": [
      "<class '__main__.Person'> <class '__main__.Person'>\n",
      "<class 'list'> <class 'list'>\n"
     ]
    }
   ],
   "source": [
    "bob = Person()\n",
    "chan = Person()\n",
    "\n",
    "a = list()\n",
    "b = list()\n",
    "\n",
    "print(type(bob), type(chan)) # Person이라는 클래스로 부터 만들어진 객체\n",
    "print(type(a), type(b)) # list라는 클래스로 부터 만들어진 객체"
   ]
  },
  {
   "cell_type": "markdown",
   "id": "d1a23bd5",
   "metadata": {},
   "source": [
    "### __ init__(self)\n",
    "- 생성자, 클래스 인스턴스가 생성될 때 호출됨\n",
    "- self인자는 항상 첫 번째에 오며 자기 자신을 가리킴\n",
    "- 이름이 꼭 self일 필요는 없지만, 관례적으로 self로 사용\n",
    "- 생성자에서는 해당 클래스가 다루는 데이터를 정의\n",
    "    - 이 데이터를 멤버 변수(member variable) 또는 속성 (attribute)라고 함"
   ]
  },
  {
   "cell_type": "code",
   "execution_count": 9,
   "id": "45de6dd7",
   "metadata": {},
   "outputs": [
    {
     "name": "stdout",
     "output_type": "stream",
     "text": [
      "<__main__.Person object at 0x000002C658739880> is generated\n",
      "<__main__.Person object at 0x000002C658739E50> is generated\n"
     ]
    },
    {
     "data": {
      "text/plain": [
       "('byungchan', 20)"
      ]
     },
     "execution_count": 9,
     "metadata": {},
     "output_type": "execute_result"
    }
   ],
   "source": [
    "class Person:\n",
    "    def __init__(self):\n",
    "        print(self, 'is generated')\n",
    "        self.name = 'Chan'\n",
    "        self.age = 18\n",
    "        \n",
    "p1 = Person()\n",
    "p2 = Person()\n",
    "\n",
    "p1.name = 'byungchan'\n",
    "p1.age = 20\n",
    "\n",
    "p1.name, p1.age"
   ]
  },
  {
   "cell_type": "markdown",
   "id": "9a6a6a2b",
   "metadata": {},
   "source": [
    "동적으로 생성하고 싶을 때"
   ]
  },
  {
   "cell_type": "code",
   "execution_count": 14,
   "id": "b9bd9e44",
   "metadata": {},
   "outputs": [
    {
     "name": "stdout",
     "output_type": "stream",
     "text": [
      "Chan 18\n",
      "Kate 20\n"
     ]
    }
   ],
   "source": [
    "class Person:\n",
    "    def __init__(self, name, age):\n",
    "        self.name = name\n",
    "        self.age = age\n",
    "        \n",
    "p1 = Person('Chan', 18)\n",
    "p2 = Person('Kate', 20)\n",
    "\n",
    "p1, p2\n",
    "\n",
    "print(p1.name, p1.age)\n",
    "print(p2.name, p2.age)"
   ]
  },
  {
   "cell_type": "markdown",
   "id": "9ca67b38",
   "metadata": {},
   "source": [
    "### self\n",
    "- 파이썬의 method는 항상 첫 번째 인자로 self를 전달\n",
    "- self는 현재 해당 메쏘드가 호출되는 객체 자신을 가리킴\n",
    "- C++/C#, Java의 this에 해당\n",
    "- 이름은 self일 필요는 없지만 관례적으로 self를 사용"
   ]
  },
  {
   "cell_type": "code",
   "execution_count": 21,
   "id": "e55a9a58",
   "metadata": {},
   "outputs": [
    {
     "name": "stdout",
     "output_type": "stream",
     "text": [
      "self <__main__.Person object at 0x000002C6587399D0>\n",
      "self <__main__.Person object at 0x000002C658739EB0>\n",
      "<__main__.Person object at 0x000002C6587399D0>\n",
      "<__main__.Person object at 0x000002C658739EB0>\n",
      "Chan 은 잠을 잡니다.\n",
      "Kate 은 잠을 잡니다.\n"
     ]
    }
   ],
   "source": [
    "class Person:\n",
    "    def __init__(self, name, age):\n",
    "        print('self', self)\n",
    "        self.name = name\n",
    "        self.age = age\n",
    "    \n",
    "    def sleep(self):\n",
    "        print(self.name, '은 잠을 잡니다.')\n",
    "        \n",
    "a = Person('Chan', 18)\n",
    "b = Person('Kate', 20)\n",
    "\n",
    "print(a) # 뒤에 나오는 숫자는 메모리의 주소 값 \n",
    "print(b)\n",
    "\n",
    "a.sleep()\n",
    "b.sleep()"
   ]
  },
  {
   "cell_type": "markdown",
   "id": "2c851e53",
   "metadata": {},
   "source": [
    "self는 기본적으로 그 자신을 가리킴"
   ]
  },
  {
   "cell_type": "markdown",
   "id": "c48b2038",
   "metadata": {},
   "source": [
    "### method 정의\n",
    "- 멤버함수라고도 하며, 해당 클래스의 object에서만 호출 가능\n",
    "- method는 객체 레벨에서 호출되며, 해당 객체의 속성에 대한 연산을 행함 \n",
    "- {obj}.{method}() 형태로 호출"
   ]
  },
  {
   "cell_type": "code",
   "execution_count": 22,
   "id": "0f632133",
   "metadata": {},
   "outputs": [
    {
     "data": {
      "text/plain": [
       "['test']"
      ]
     },
     "execution_count": 22,
     "metadata": {},
     "output_type": "execute_result"
    }
   ],
   "source": [
    "a = list()\n",
    "a.append(1)\n",
    "\n",
    "s = 'test'\n",
    "s.split()\n",
    "# 이런식으로 .을 찍어서 호출"
   ]
  },
  {
   "cell_type": "code",
   "execution_count": 32,
   "id": "f04b2729",
   "metadata": {},
   "outputs": [
    {
     "name": "stdout",
     "output_type": "stream",
     "text": [
      "현재 값은 : 0\n",
      "현재 값은 : 2\n",
      "현재 값은 : 3\n",
      "현재 값은 : 0\n",
      "현재 값은 : 1\n"
     ]
    }
   ],
   "source": [
    "# 기능 1 숫자를 하나 증가\n",
    "# 기능 2 숫자를 0으로 초기화\n",
    "class Counter:\n",
    "    def __init__(self):\n",
    "        self.num = 0\n",
    "    \n",
    "    def increment(self):\n",
    "        self.num += 1\n",
    "    \n",
    "    def reset(self):\n",
    "        self.num = 0\n",
    "    \n",
    "    def print_current_value(self):\n",
    "        print('현재 값은 :', self.num)\n",
    "    \n",
    "c1 = Counter()\n",
    "c1.print_current_value()\n",
    "c1.increment()\n",
    "c1.increment()\n",
    "c1.print_current_value()\n",
    "c1.increment()\n",
    "c1.print_current_value()\n",
    "c1.reset()\n",
    "c1.print_current_value()\n",
    "# c2랑은 서로 다른 사이\n",
    "\n",
    "c2 = Counter()\n",
    "c2.increment()\n",
    "c2.print_current_value()"
   ]
  },
  {
   "cell_type": "markdown",
   "id": "5cf80edc",
   "metadata": {},
   "source": [
    "### method type\n",
    "- instance method - 객체로 호출\n",
    "    - method는 객체 레벨로 호출 되기 때문에, 해당 method를 호출한 객체에만 영향을 미침\n",
    "- class method(static method) - class로 호출 \n",
    "    - class method의 경우, class 레벨로 호출되기 때문에 멤버 변수만 변경 가능"
   ]
  },
  {
   "cell_type": "code",
   "execution_count": 35,
   "id": "68a96b48",
   "metadata": {},
   "outputs": [
    {
     "data": {
      "text/plain": [
       "20"
      ]
     },
     "execution_count": 35,
     "metadata": {},
     "output_type": "execute_result"
    }
   ],
   "source": [
    "class Math:\n",
    "    @staticmethod # 스태틱이라는 것을 명시함 또한 self를 없앨 수 있음\n",
    "    def add(a, b):\n",
    "        return a + b\n",
    "    \n",
    "    @staticmethod # 위와 동일 \n",
    "    def gop(a, b):\n",
    "        return a * b\n",
    "\n",
    "m = Math()\n",
    "m.add(10, 20)\n",
    "m.gop(10, 2)\n",
    "# 그런데 Math라는 class에는 속성이 없음\n",
    "# self가 할 일이 없다는 거 "
   ]
  },
  {
   "cell_type": "markdown",
   "id": "a86f3deb",
   "metadata": {},
   "source": [
    "위에서 staticmethod라고 명시한 것은 아래와 같이 사용이 가능함"
   ]
  },
  {
   "cell_type": "code",
   "execution_count": 36,
   "id": "c25dd5d0",
   "metadata": {},
   "outputs": [
    {
     "data": {
      "text/plain": [
       "30"
      ]
     },
     "execution_count": 36,
     "metadata": {},
     "output_type": "execute_result"
    }
   ],
   "source": [
    "Math.add(10, 20)"
   ]
  },
  {
   "cell_type": "markdown",
   "id": "a70a1f92",
   "metadata": {},
   "source": [
    "### Class Inheritance (상속)\n",
    "- 기존에 정의해둔 클래스의 기능을 그대로 물려받을 수 있다.\n",
    "- 기존 클래스에 기능 일부를 추가하거나, 변경하여 새로운 클래스를 정의한다.\n",
    "- 코드를 재사용할 수 있게 된다.\n",
    "- 상속 받고자 하는 대상인 기존 클래스는 (Parent, Super, Base class 라고 부른다.)\n",
    "- 상속 받는 새로운 클래스는 (Child, Sub, Derived class라고 부른다.)\n",
    "- 의미적으로 is-a 관계를 갖는다"
   ]
  },
  {
   "cell_type": "code",
   "execution_count": 38,
   "id": "cd1683a5",
   "metadata": {},
   "outputs": [
    {
     "name": "stdout",
     "output_type": "stream",
     "text": [
      "chan은 돈까스을 먹습니다.\n",
      "chan은 30분 동안 잤다\n",
      "chan은 20분 동안 일을했다.\n"
     ]
    }
   ],
   "source": [
    "class Person: # 부모 클래스가 됨 \n",
    "    def __init__(self, name, age):\n",
    "        self.name = name\n",
    "        self.age = age\n",
    "        \n",
    "    def eat(self, food):\n",
    "        print('{}은 {}을 먹습니다.'.format(self.name, food))\n",
    "    \n",
    "    def sleep(self, minute):\n",
    "        print('{}은 {}분 동안 잤다'.format(self.name, minute))\n",
    "    \n",
    "    def work(self, minute):\n",
    "        print('{}은 {}분 동안 일을했다.'.format(self.name, minute))\n",
    "    \n",
    "# student is a person ( is-a 관계 )\n",
    "class Student(Person): # Person을 상속받음 \n",
    "    def __init__(self, name, age):\n",
    "        self.name = name\n",
    "        self.age = age\n",
    "\n",
    "class Employee(Person):\n",
    "    def __init__(self, name, age):\n",
    "        self.name = name\n",
    "        self.age = age\n",
    "    \n",
    "\n",
    "chan = Student('chan', 18) # Student로 바꾸었지만 Person을 상속 받았기 때문에 Person의 기능을 모두 받음\n",
    "chan.eat('돈까스')\n",
    "chan.sleep(30)\n",
    "chan.work(20)"
   ]
  },
  {
   "cell_type": "markdown",
   "id": "8dde93a4",
   "metadata": {},
   "source": [
    "### method override\n",
    "- 부모 클래스의 method를 재정의(override)\n",
    "- 하위 클래스(자식 클래스)의 인스턴스로 호출시, 재정의된 메소드가 호출 됨"
   ]
  },
  {
   "cell_type": "code",
   "execution_count": 40,
   "id": "ffcac13f",
   "metadata": {},
   "outputs": [
    {
     "name": "stdout",
     "output_type": "stream",
     "text": [
      "chan은 돈까스을 먹습니다.\n",
      "chan은 30분 동안 잤다\n",
      "chan은 20분 동안 일을 했다.\n"
     ]
    }
   ],
   "source": [
    "class Person: # 부모 클래스가 됨 \n",
    "    def __init__(self, name, age):\n",
    "        self.name = name\n",
    "        self.age = age\n",
    "        \n",
    "    def eat(self, food):\n",
    "        print('{}은 {}을 먹습니다.'.format(self.name, food))\n",
    "    \n",
    "    def sleep(self, minute):\n",
    "        print('{}은 {}분 동안 잤다'.format(self.name, minute))\n",
    "    \n",
    "    def work(self, minute):\n",
    "        print('{}은 {}분 동안 일을 했다.'.format(self.name, minute))\n",
    "    \n",
    "# student is a person ( is-a 관계 )\n",
    "class Student(Person): # Person을 상속받음 \n",
    "    def __init__(self, name, age):\n",
    "        self.name = name\n",
    "        self.age = age\n",
    "        \n",
    "    def work(self, minute): # work라는 함수는 학생 클래스에도 있기 때문에 학생 클래스가 work라는 메소드를 재정의 \n",
    "        print('{}은 {}분 동안 공부를 했다.'.format(self.name, minute))\n",
    "\n",
    "class Employee(Person):\n",
    "    def __init__(self, name, age):\n",
    "        self.name = name\n",
    "        self.age = age\n",
    "\n",
    "chan = Person('chan', 18)     \n",
    "chan.eat('돈까스')\n",
    "chan.sleep(30)\n",
    "chan.work(20)"
   ]
  },
  {
   "cell_type": "markdown",
   "id": "b9471c4a",
   "metadata": {},
   "source": [
    "**Person의 기본기능을 호출하면 20분 동안 일을 했다가 됨**"
   ]
  },
  {
   "cell_type": "markdown",
   "id": "b0cab179",
   "metadata": {},
   "source": [
    "**하지만 Student를 사용하게 되면 Student가 Person을 상속받아서 work를 재정의 함**"
   ]
  },
  {
   "cell_type": "code",
   "execution_count": 41,
   "id": "2c6e06a3",
   "metadata": {},
   "outputs": [
    {
     "name": "stdout",
     "output_type": "stream",
     "text": [
      "chan은 돈까스을 먹습니다.\n",
      "chan은 30분 동안 잤다\n",
      "chan은 20분 동안 공부를 했다.\n"
     ]
    }
   ],
   "source": [
    "chan = Student('chan', 18)     \n",
    "chan.eat('돈까스')\n",
    "chan.sleep(30)\n",
    "chan.work(20)"
   ]
  },
  {
   "cell_type": "markdown",
   "id": "079683c9",
   "metadata": {},
   "source": [
    "**위 처럼 공부를 했다로 바뀜**"
   ]
  },
  {
   "cell_type": "markdown",
   "id": "4639b5a5",
   "metadata": {},
   "source": [
    "그런데 치명적인 단점이 있음  \n",
    "오버라이딩을 해버리면 부모 클래스의 기능이 완전히 사라진다는 것  \n",
    "그때 사용하는게 아래의 super라는 것"
   ]
  },
  {
   "cell_type": "markdown",
   "id": "32810b63",
   "metadata": {},
   "source": [
    "### super\n",
    "- 하위 클래스(자식 클래스)에서 부모 클래스의 method를 호출할 때 사용"
   ]
  },
  {
   "cell_type": "code",
   "execution_count": 43,
   "id": "a212b5f6",
   "metadata": {},
   "outputs": [
    {
     "name": "stdout",
     "output_type": "stream",
     "text": [
      "chan은 20분 동안 일을 했다.\n",
      "chan은 20분 동안 공부를 했다.\n"
     ]
    }
   ],
   "source": [
    "class Person: # 부모 클래스가 됨 \n",
    "    def __init__(self, name, age):\n",
    "        self.name = name\n",
    "        self.age = age\n",
    "        \n",
    "    def eat(self, food):\n",
    "        print('{}은 {}을 먹습니다.'.format(self.name, food))\n",
    "    \n",
    "    def sleep(self, minute):\n",
    "        print('{}은 {}분 동안 잤다'.format(self.name, minute))\n",
    "    \n",
    "    def work(self, minute):\n",
    "        print('{}은 {}분 동안 일을 했다.'.format(self.name, minute))\n",
    "    \n",
    "class Student(Person): \n",
    "    def __init__(self, name, age):\n",
    "        self.name = name\n",
    "        self.age = age\n",
    "        \n",
    "    def work(self, minute):  \n",
    "        super().work(minute) # 부모의 work를 다시 호출\n",
    "        print('{}은 {}분 동안 공부를 했다.'.format(self.name, minute))\n",
    "                \n",
    "chan = Student('chan', 18)\n",
    "chan.work(20)"
   ]
  },
  {
   "cell_type": "markdown",
   "id": "16418c04",
   "metadata": {},
   "source": [
    "### special method\n",
    "- __로 시작 __로 끝나는 특수 함수\n",
    "- 해당 method들을 구현하면, 커스텀 객체에 여러가지 파이썬 내장 함수나 연산자를 적용 가능"
   ]
  },
  {
   "cell_type": "markdown",
   "id": "7e0137a8",
   "metadata": {},
   "source": [
    "[special method 모음 사이트](https://docs.python.org/3/reference/datamodel.html)"
   ]
  },
  {
   "cell_type": "code",
   "execution_count": 65,
   "id": "677e3656",
   "metadata": {},
   "outputs": [
    {
     "name": "stdout",
     "output_type": "stream",
     "text": [
      "25\n",
      "3\n",
      "(3, 4) (2, 7)\n",
      "(5, 11)\n",
      "(1, -3)\n",
      "(9, 12)\n"
     ]
    }
   ],
   "source": [
    "# point \n",
    "# 2차원 좌표평면 각 점(x, y)\n",
    "# 연산\n",
    "# 두점의 덧셈, 뺄셈 \n",
    "# 한 점과 숫자의 곱셈\n",
    "# 그 점의 길이 (0, 0)부터의 거리\n",
    "# x, y값 가져오기\n",
    "# 출력하기\n",
    "\n",
    "class Point:\n",
    "    def __init__(self, x, y):\n",
    "        self.x = x\n",
    "        self.y = y\n",
    "        \n",
    "    def __add__(self, pt):\n",
    "        new_x = self.x + pt.x\n",
    "        new_y = self.y + pt.y\n",
    "        return Point(new_x, new_y)\n",
    "    \n",
    "    def __sub__(self, pt):\n",
    "        new_x = self.x - pt.x\n",
    "        new_y = self.y - pt.y\n",
    "        return Point(new_x, new_y)\n",
    "    \n",
    "    def __mul__(self, factor):\n",
    "        return Point(self.x * factor, self.y * factor)\n",
    "    \n",
    "    def __len__(self):\n",
    "        return self.x ** 2 + self.y ** 2\n",
    "    \n",
    "    def __getitem__(self, index):\n",
    "        if index == 0:\n",
    "            return self.x\n",
    "        elif index == 1:\n",
    "            return self\n",
    "        else:\n",
    "            return -1\n",
    "    \n",
    "    def __str__(self): # \n",
    "        return '({}, {})'.format(self.x, self.y)\n",
    "\n",
    "p1 = Point(3, 4)\n",
    "p2 = Point(2, 7)\n",
    "\n",
    "p3 = p1 + p2 # 어우.. 머고 이게 ( special method는 알면 많이 좋을 듯 하다)\n",
    "p4 = p1 - p2\n",
    "p5 = p1 * 3\n",
    "\n",
    "print(len(p1)) # len()\n",
    "\n",
    "print(p1[0])\n",
    "\n",
    "print(p1, p2)\n",
    "print(p3)\n",
    "print(p4)\n",
    "print(p5)"
   ]
  }
 ],
 "metadata": {
  "kernelspec": {
   "display_name": "Python 3 (ipykernel)",
   "language": "python",
   "name": "python3"
  },
  "language_info": {
   "codemirror_mode": {
    "name": "ipython",
    "version": 3
   },
   "file_extension": ".py",
   "mimetype": "text/x-python",
   "name": "python",
   "nbconvert_exporter": "python",
   "pygments_lexer": "ipython3",
   "version": "3.9.13"
  }
 },
 "nbformat": 4,
 "nbformat_minor": 5
}
