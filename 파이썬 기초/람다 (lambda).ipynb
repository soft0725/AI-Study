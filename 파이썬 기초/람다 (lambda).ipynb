{
 "cells": [
  {
   "cell_type": "markdown",
   "id": "d335394e",
   "metadata": {},
   "source": [
    "### Lambda 함수 \n",
    "- 단일문으로 표현되는 익명함수\n",
    "- 익명함수란 잉름이 없는 구현체만 존재하는 간단한 함수를 의미\n",
    "- 코드 상에서 한 번만 사용되는 기능이 있을 때, 굳이 함수로 만들지 않고 1회성으로 만들어서 쓸 때 사용\n"
   ]
  },
  {
   "cell_type": "code",
   "execution_count": 1,
   "id": "286f45d9",
   "metadata": {},
   "outputs": [
    {
     "data": {
      "text/plain": [
       "function"
      ]
     },
     "execution_count": 1,
     "metadata": {},
     "output_type": "execute_result"
    }
   ],
   "source": [
    "square = lambda x:x**2 \n",
    "type(square)"
   ]
  },
  {
   "cell_type": "code",
   "execution_count": 2,
   "id": "264d5c9a",
   "metadata": {},
   "outputs": [
    {
     "data": {
      "text/plain": [
       "4"
      ]
     },
     "execution_count": 2,
     "metadata": {},
     "output_type": "execute_result"
    }
   ],
   "source": [
    "square(2)"
   ]
  },
  {
   "cell_type": "code",
   "execution_count": 3,
   "id": "338e0da9",
   "metadata": {},
   "outputs": [
    {
     "data": {
      "text/plain": [
       "4"
      ]
     },
     "execution_count": 3,
     "metadata": {},
     "output_type": "execute_result"
    }
   ],
   "source": [
    "def square2(x):\n",
    "    return x**2\n",
    "\n",
    "square2(2) # 위 Lambda 코드를 원래 함수 형태로 작성한 것 "
   ]
  },
  {
   "cell_type": "markdown",
   "id": "d2c45c53",
   "metadata": {},
   "source": [
    "add 함수 Lambda로 구현"
   ]
  },
  {
   "cell_type": "code",
   "execution_count": 6,
   "id": "d09b94f4",
   "metadata": {},
   "outputs": [
    {
     "name": "stdout",
     "output_type": "stream",
     "text": [
      "6\n",
      "6\n"
     ]
    }
   ],
   "source": [
    "def add(x, y):\n",
    "    return x + y\n",
    "# 일반 함수 \n",
    "\n",
    "a = lambda x,y:x+y\n",
    "# Lambda 함수 \n",
    "\n",
    "print(add(2,4))\n",
    "print(a(2,4))\n"
   ]
  },
  {
   "cell_type": "markdown",
   "id": "09658f83",
   "metadata": {},
   "source": [
    "문자열을 문자열의 길이별로 정렬하는 코드 "
   ]
  },
  {
   "cell_type": "code",
   "execution_count": 7,
   "id": "390e93cc",
   "metadata": {},
   "outputs": [
    {
     "data": {
      "text/plain": [
       "4"
      ]
     },
     "execution_count": 7,
     "metadata": {},
     "output_type": "execute_result"
    }
   ],
   "source": [
    "def str_len(s):\n",
    "    return len(s)\n",
    "\n",
    "str_len('haha')"
   ]
  },
  {
   "cell_type": "code",
   "execution_count": 9,
   "id": "9968001c",
   "metadata": {},
   "outputs": [
    {
     "name": "stdout",
     "output_type": "stream",
     "text": [
      "['abc', 'busan', 'chan', 'thisis']\n"
     ]
    }
   ],
   "source": [
    "strings = ['abc', 'chan', 'busan', 'thisis']\n",
    "strings.sort()\n",
    "\n",
    "print(strings) "
   ]
  },
  {
   "cell_type": "markdown",
   "id": "61525ac6",
   "metadata": {},
   "source": [
    "일반적으로 그냥 sort()를 하게 되면 a b c 순으로 나열함 "
   ]
  },
  {
   "cell_type": "markdown",
   "id": "d4a1f4e1",
   "metadata": {},
   "source": [
    "하지만 길이별로 정렬 할 수 있음"
   ]
  },
  {
   "cell_type": "code",
   "execution_count": 10,
   "id": "82197e24",
   "metadata": {},
   "outputs": [
    {
     "name": "stdout",
     "output_type": "stream",
     "text": [
      "['abc', 'chan', 'busan', 'thisis']\n"
     ]
    }
   ],
   "source": [
    "strings = ['abc', 'thisis', 'chan', 'busan']\n",
    "strings.sort(key = str_len)\n",
    "\n",
    "print(strings) # 이렇게 문자열의 길이별로 정렬가능"
   ]
  },
  {
   "cell_type": "markdown",
   "id": "0dc761eb",
   "metadata": {},
   "source": [
    "Lambda로도 간편하게 구현 가능"
   ]
  },
  {
   "cell_type": "code",
   "execution_count": 13,
   "id": "7bec6e47",
   "metadata": {},
   "outputs": [
    {
     "name": "stdout",
     "output_type": "stream",
     "text": [
      "['abc', 'thisis', 'chan', 'busan']\n"
     ]
    }
   ],
   "source": [
    "strings = ['abc', 'thisis', 'chan', 'busan']\n",
    "strings.sort(key = lambda s:len(strings))\n",
    "\n",
    "print(strings)"
   ]
  },
  {
   "cell_type": "markdown",
   "id": "c8414f95",
   "metadata": {},
   "source": [
    "### filter, map, reduce\n",
    "- lambda가 유용하게 사용되는 3가지 대표적 함수 \n",
    "- 함수형 프로그래밍의 기본 요소이기도 함 \n",
    "- filter : 특정 조건을 만족하는 요소만 남기고 필터링\n",
    "- map : 각 원소를 주어진 수식에 따라 변형하여 새로운 리스트를 반환\n",
    "- reduce : 차례대로 앞 2개의 원소를 가지고 연산. 연산의 결과가 또 다음 연산의 입력으로 진행됨 따라서 마지막까지 진행되면 최종 출력은 한개의 값만 남게 됨"
   ]
  },
  {
   "cell_type": "code",
   "execution_count": 14,
   "id": "45d711b4",
   "metadata": {},
   "outputs": [
    {
     "data": {
      "text/plain": [
       "True"
      ]
     },
     "execution_count": 14,
     "metadata": {},
     "output_type": "execute_result"
    }
   ],
   "source": [
    "def even(n):\n",
    "    return n % 2 == 0\n",
    "\n",
    "even(2)"
   ]
  },
  {
   "cell_type": "code",
   "execution_count": 17,
   "id": "d8b5c1b8",
   "metadata": {},
   "outputs": [
    {
     "data": {
      "text/plain": [
       "[2, 4, 6, 8]"
      ]
     },
     "execution_count": 17,
     "metadata": {},
     "output_type": "execute_result"
    }
   ],
   "source": [
    "# filter(함수, 리스트)\n",
    "nums = [1, 2, 3, 4, 5, 6, 7, 8]\n",
    "\n",
    "list(filter(even, nums))"
   ]
  },
  {
   "cell_type": "markdown",
   "id": "4b6b776c",
   "metadata": {},
   "source": [
    "원래의 리스트에서 짝수만을 가지는 리스트로 바뀌어버림"
   ]
  },
  {
   "cell_type": "markdown",
   "id": "343271e1",
   "metadata": {},
   "source": [
    "람다식으로 짠다면 아래와 같은 코드가 될 것"
   ]
  },
  {
   "cell_type": "code",
   "execution_count": 19,
   "id": "63ae9bd6",
   "metadata": {},
   "outputs": [
    {
     "data": {
      "text/plain": [
       "[2, 4, 6, 8]"
      ]
     },
     "execution_count": 19,
     "metadata": {},
     "output_type": "execute_result"
    }
   ],
   "source": [
    "nums = [1, 2, 3, 4, 5, 6, 7, 8]\n",
    "\n",
    "list(filter(lambda x:x%2==0, nums))"
   ]
  },
  {
   "cell_type": "markdown",
   "id": "0d703126",
   "metadata": {},
   "source": [
    "이런식으로 만들 수 있는데 람다의 최고 장점은 효율적이라는 것"
   ]
  },
  {
   "cell_type": "code",
   "execution_count": 21,
   "id": "c46cb4f2",
   "metadata": {},
   "outputs": [
    {
     "data": {
      "text/plain": [
       "[1, 4, 9, 16, 25, 36, 49, 64]"
      ]
     },
     "execution_count": 21,
     "metadata": {},
     "output_type": "execute_result"
    }
   ],
   "source": [
    "# map \n",
    "# 주어진 리스트, 리스트의 제곱을한 숫자로 이루어진 새로운 리스트를 만드는 ㄳ \n",
    "# map(함수, 리스트)\n",
    "nums = [1, 2, 3, 4, 5, 6, 7, 8]\n",
    "\n",
    "list(map(lambda n:n**2, nums))"
   ]
  },
  {
   "cell_type": "markdown",
   "id": "f594d45a",
   "metadata": {},
   "source": [
    "람다 사랑합니다.."
   ]
  },
  {
   "cell_type": "code",
   "execution_count": 24,
   "id": "71dfcf28",
   "metadata": {},
   "outputs": [
    {
     "data": {
      "text/plain": [
       "[True, False, True, False, True, False, True, False]"
      ]
     },
     "execution_count": 24,
     "metadata": {},
     "output_type": "execute_result"
    }
   ],
   "source": [
    "nums = [1, 2, 3, 4, 5, 6, 7, 8]\n",
    "# 홀수만을 가지는 새로운 리스트 생성\n",
    "\n",
    "new_list = list(map(lambda x:x%2!=0, nums))\n",
    "new_list"
   ]
  },
  {
   "cell_type": "markdown",
   "id": "a8810eed",
   "metadata": {},
   "source": [
    "map은 bool의 값도 반환하는 듯 하다"
   ]
  },
  {
   "cell_type": "code",
   "execution_count": 25,
   "id": "107b38d1",
   "metadata": {},
   "outputs": [
    {
     "data": {
      "text/plain": [
       "17"
      ]
     },
     "execution_count": 25,
     "metadata": {},
     "output_type": "execute_result"
    }
   ],
   "source": [
    "# reduce 버전이 3.x.x로 올라오면서 import functools를 해주어야함 \n",
    "import functools\n",
    "\n",
    "a = [1, 3, 5, 8]\n",
    "\n",
    "# 1, 3, 5, 8이 있는데 reduce 함수를 쓰면 아래와 같이 됨 \n",
    "# 내가 더하기 연산을 했다고 가정을 하였을 때 \n",
    "# 4, 5, 8\n",
    "# 9, 8\n",
    "# 17\n",
    "\n",
    "# 리스트 내의 모든 숫자의 합을 구함\n",
    "functools.reduce(lambda x,y:x+y, a) # 입력은 무조건 2개"
   ]
  },
  {
   "cell_type": "markdown",
   "id": "861ed6f5",
   "metadata": {},
   "source": [
    "람다를 조금이라도 더 잘 쓰기 위해서 간단한 예제를 풀어보겠음 \n",
    "- 숫자 리스트의 평균을 구하는 함수\n",
    "- 해당 숫자가 소수인지 아닌지 판별 \n",
    "- 2부터 해당 숫자 사이에 소수가 몇개인지 출력하는 함수 "
   ]
  },
  {
   "cell_type": "code",
   "execution_count": 37,
   "id": "feca0a49",
   "metadata": {},
   "outputs": [
    {
     "data": {
      "text/plain": [
       "3.0"
      ]
     },
     "execution_count": 37,
     "metadata": {},
     "output_type": "execute_result"
    }
   ],
   "source": [
    "def GetAvg(x):\n",
    "    return sum(x)/len(x)\n",
    "\n",
    "a = [1, 2, 3, 4, 5]\n",
    "\n",
    "avg = GetAvg(a)\n",
    "avg"
   ]
  },
  {
   "cell_type": "code",
   "execution_count": 39,
   "id": "421b7d98",
   "metadata": {},
   "outputs": [
    {
     "name": "stdout",
     "output_type": "stream",
     "text": [
      "7은 True\n",
      "8은 False\n"
     ]
    }
   ],
   "source": [
    "def is_prime(x):\n",
    "    for i in range(2, x):\n",
    "        if x % i == 0:\n",
    "            return False\n",
    "    return True \n",
    "\n",
    "print(f'7은 {is_prime(7)}')\n",
    "print(f'8은 {is_prime(8)}')"
   ]
  },
  {
   "cell_type": "code",
   "execution_count": 45,
   "id": "362b61ee",
   "metadata": {},
   "outputs": [
    {
     "name": "stdout",
     "output_type": "stream",
     "text": [
      "4\n",
      "2\n"
     ]
    }
   ],
   "source": [
    "def nums_prime(x):\n",
    "    cnt = 0\n",
    "    for i in range(2, x+1):\n",
    "        if is_prime(i): # 위에서 사용했던거 다시 씀\n",
    "            cnt += 1\n",
    "    return cnt\n",
    "\n",
    "print(nums_prime(7)) # 2, 3, 5, 7\n",
    "print(nums_prime(3)) # 2, 3"
   ]
  }
 ],
 "metadata": {
  "kernelspec": {
   "display_name": "Python 3 (ipykernel)",
   "language": "python",
   "name": "python3"
  },
  "language_info": {
   "codemirror_mode": {
    "name": "ipython",
    "version": 3
   },
   "file_extension": ".py",
   "mimetype": "text/x-python",
   "name": "python",
   "nbconvert_exporter": "python",
   "pygments_lexer": "ipython3",
   "version": "3.9.13"
  }
 },
 "nbformat": 4,
 "nbformat_minor": 5
}
