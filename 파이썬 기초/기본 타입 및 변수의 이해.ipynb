{
 "cells": [
  {
   "cell_type": "markdown",
   "id": "645e3336",
   "metadata": {},
   "source": [
    "## 변수 (variable) \n",
    "\n",
    "- 데이터를 저장하는 공간, 변수 \n",
    "- 저장공간(memory)에 값을 생성하고 이름(name)을 지정\n",
    "- =(대입연산자)를 사용하여 왼쪽은 변수명, 오른쪽은 데이터가 위치"
   ]
  },
  {
   "cell_type": "markdown",
   "id": "5b018f01",
   "metadata": {},
   "source": [
    "### = *대입 연산자*, == *비교 연산자*\n",
    "\n",
    "- 대입의 경우, 오른쪽의 수식이나 값을 evaluation(여기서는 계산이라는 의미로 사용) 한 뒤,\n",
    "- 왼쪽에 명시된 변수에 해당 값을 대입 \n",
    "- 변순는 해당 값을 가지게 됨"
   ]
  },
  {
   "cell_type": "code",
   "execution_count": 1,
   "id": "9c9681c6",
   "metadata": {},
   "outputs": [],
   "source": [
    "a = 10  # int\n",
    "b = 11.4 # float"
   ]
  },
  {
   "cell_type": "markdown",
   "id": "a4e2d94e",
   "metadata": {},
   "source": [
    "### comment(주석)\n",
    "- 코드에서 #으로 시작하는 뒷 부분은 실행 X \n",
    "- python이 소스코드를 실행하면서 #은 무시가 됨 \n",
    "- 개발자가 보기 위한 용도로 사용"
   ]
  },
  {
   "cell_type": "code",
   "execution_count": 2,
   "id": "713ac288",
   "metadata": {},
   "outputs": [],
   "source": [
    "# 이것은 주석입니다."
   ]
  },
  {
   "cell_type": "markdown",
   "id": "26f8464f",
   "metadata": {},
   "source": [
    "### print 함수\n",
    "- 함수란 특정 기능을 반복적으로 호출하여 사용가능한 코드블럭 \n",
    "- 해당 변수의 값을 출력 \n",
    "- , 로 여러 변수를 나열하면 한줄에 출력 \n",
    "- 기본적으로는 한칸 띄어쓰기 후 출력"
   ]
  },
  {
   "cell_type": "code",
   "execution_count": 3,
   "id": "5199e234",
   "metadata": {},
   "outputs": [
    {
     "name": "stdout",
     "output_type": "stream",
     "text": [
      "10 11.4\n"
     ]
    }
   ],
   "source": [
    "print(a, b)"
   ]
  },
  {
   "cell_type": "markdown",
   "id": "d651fd10",
   "metadata": {},
   "source": [
    "### - print함수 설정 \n",
    "- sep : 구분자, 각 출력할 변수 사이에서 구별하는 역할을 함 \n",
    "- end : 마지막에 출력할 문자열 "
   ]
  },
  {
   "cell_type": "code",
   "execution_count": 4,
   "id": "42bcd1d4",
   "metadata": {},
   "outputs": [
    {
     "name": "stdout",
     "output_type": "stream",
     "text": [
      "10*11.4*10!!"
     ]
    }
   ],
   "source": [
    "print(a, b, 10, sep='*', end='!!')\n",
    "# 값 사이에는 sep = '*' * 을 출력\n",
    "# 출력의 마지막에는 end = '!!' !! 을 출력"
   ]
  },
  {
   "cell_type": "markdown",
   "id": "6350706e",
   "metadata": {},
   "source": [
    "### 변수 값 확인법\n",
    "- print() 함수 사용 \n",
    "- 변수 값을 코드의 마지막에 위치 시킨 후 실행 \n",
    "    - 이 경우 output으로 변수의 값이 출력"
   ]
  },
  {
   "cell_type": "code",
   "execution_count": 5,
   "id": "74e998e9",
   "metadata": {},
   "outputs": [
    {
     "data": {
      "text/plain": [
       "10"
      ]
     },
     "execution_count": 5,
     "metadata": {},
     "output_type": "execute_result"
    }
   ],
   "source": [
    "a # print()를 사용하지 않고 값을 확인하려면 그냥 변수명을 적어주면 된다."
   ]
  },
  {
   "cell_type": "markdown",
   "id": "266f4adf",
   "metadata": {},
   "source": [
    "### variable naming (변수 이름 규칙)\n",
    "- 숫자로 시작하는 이름을 제외하고 영문 대소문자, _, 숫자로 구성 가능 \n",
    "- 아래의 예제는 모두 valid한 변수 이름 \n",
    "- 일반적으로 해당 변수를 표현하고자 하는 정확하고 간결한 이름을 사용하는 것이 원칙 \n",
    "    - 코드를 읽은 것을 더 쉽게 할 수 있음\n",
    "    - e.g) a = 1000의 경우보다 **student_num = 1000**로 명시한 것이 변수에 대한 이해가 빠름"
   ]
  },
  {
   "cell_type": "code",
   "execution_count": 6,
   "id": "4070e2a1",
   "metadata": {},
   "outputs": [],
   "source": [
    "abc = 100\n",
    "_abc = 100\n",
    "ABC = 100\n",
    "a1234 = 100"
   ]
  },
  {
   "cell_type": "markdown",
   "id": "01aaa8b7",
   "metadata": {},
   "source": [
    "위는 모두 가능한 변수 명"
   ]
  },
  {
   "cell_type": "code",
   "execution_count": 7,
   "id": "eaee53be",
   "metadata": {},
   "outputs": [
    {
     "ename": "SyntaxError",
     "evalue": "invalid syntax (274694061.py, line 1)",
     "output_type": "error",
     "traceback": [
      "\u001b[1;36m  File \u001b[1;32m\"C:\\Users\\a0102\\AppData\\Local\\Temp\\ipykernel_15376\\274694061.py\"\u001b[1;36m, line \u001b[1;32m1\u001b[0m\n\u001b[1;33m    3abc = 100\u001b[0m\n\u001b[1;37m     ^\u001b[0m\n\u001b[1;31mSyntaxError\u001b[0m\u001b[1;31m:\u001b[0m invalid syntax\n"
     ]
    }
   ],
   "source": [
    "3abc = 100"
   ]
  },
  {
   "cell_type": "markdown",
   "id": "40bff053",
   "metadata": {},
   "source": [
    "변수 이름 앞에 숫자를 붙이면 에러가 남"
   ]
  },
  {
   "cell_type": "markdown",
   "id": "118850da",
   "metadata": {},
   "source": [
    "변수 명은 최대한 깔끔하고 알아보기 쉽게 해야지 협업할 때 편함  \n",
    "**최대한 명시적으로**"
   ]
  },
  {
   "cell_type": "markdown",
   "id": "6eac66b0",
   "metadata": {},
   "source": [
    "#### reserved keywords (예약어)\n",
    "- python에서 미리 선점하여 사용중인 키워드 \n",
    "- 변수, 함수, 클래스 등등의 사용자 정의 이름으로 사용할 수 없음"
   ]
  },
  {
   "cell_type": "code",
   "execution_count": 8,
   "id": "235500de",
   "metadata": {},
   "outputs": [
    {
     "ename": "SyntaxError",
     "evalue": "invalid syntax (1551882446.py, line 1)",
     "output_type": "error",
     "traceback": [
      "\u001b[1;36m  File \u001b[1;32m\"C:\\Users\\a0102\\AppData\\Local\\Temp\\ipykernel_15376\\1551882446.py\"\u001b[1;36m, line \u001b[1;32m1\u001b[0m\n\u001b[1;33m    class = 10\u001b[0m\n\u001b[1;37m          ^\u001b[0m\n\u001b[1;31mSyntaxError\u001b[0m\u001b[1;31m:\u001b[0m invalid syntax\n"
     ]
    }
   ],
   "source": [
    "class = 10\n",
    "print(class)"
   ]
  },
  {
   "cell_type": "markdown",
   "id": "94db4a91",
   "metadata": {},
   "source": [
    "만약 자기가 진짜 변수명을 class를 꼭 진짜 미친듯이 하고싶다면 앞에나 뒤에 *_* 를 붙여주면 됨"
   ]
  },
  {
   "cell_type": "code",
   "execution_count": 9,
   "id": "d640d06d",
   "metadata": {},
   "outputs": [
    {
     "name": "stdout",
     "output_type": "stream",
     "text": [
      "100 200\n"
     ]
    }
   ],
   "source": [
    "_class = 100\n",
    "class_ = 200\n",
    "print(_class, class_)"
   ]
  },
  {
   "cell_type": "markdown",
   "id": "7b8f6eed",
   "metadata": {},
   "source": [
    "### 기본 데이터 타입\n",
    "- 정수 (int)\n",
    "- 실수 (float)\n",
    "- 문자열 (str)\n",
    "- 불리언 (boolean)"
   ]
  },
  {
   "cell_type": "markdown",
   "id": "c5555b54",
   "metadata": {},
   "source": [
    "### type 함수 \n",
    "- 해당 변수, 값의 타입(type)을 알고자 할 때 사용"
   ]
  },
  {
   "cell_type": "code",
   "execution_count": 12,
   "id": "b456a291",
   "metadata": {},
   "outputs": [
    {
     "name": "stdout",
     "output_type": "stream",
     "text": [
      "<class 'int'>\n"
     ]
    },
    {
     "data": {
      "text/plain": [
       "int"
      ]
     },
     "execution_count": 12,
     "metadata": {},
     "output_type": "execute_result"
    }
   ],
   "source": [
    "a = 10\n",
    "\n",
    "print(type(a))\n",
    "type(a)"
   ]
  },
  {
   "cell_type": "markdown",
   "id": "b0a1a4c4",
   "metadata": {},
   "source": [
    "### None\n",
    "- 아무런 값을 갖지 않을 때 사용\n",
    "- 일반적으로 변수가 초기값을 갖지 않게 하여 해당 변수를 생성할 때 사용\n",
    "- 기타 언어의 NULL, nil등과 같은 의미로 사용"
   ]
  },
  {
   "cell_type": "code",
   "execution_count": 14,
   "id": "203541b7",
   "metadata": {},
   "outputs": [
    {
     "name": "stdout",
     "output_type": "stream",
     "text": [
      "None\n"
     ]
    }
   ],
   "source": [
    "c = None\n",
    "print(c)\n",
    "c # output에는 뜨지 않음"
   ]
  },
  {
   "cell_type": "markdown",
   "id": "229eac61",
   "metadata": {},
   "source": [
    "### comparison operator(비교 연산자)\n",
    "- 프로그래밍에서는 비교를 할 경우, = 대신 ==를 사용\n",
    "- <, > (작다, 크다)\n",
    "- <=, >= (작거나 같다, 크거나 같다)\n",
    "- == 같다\n",
    "- != 같지 않다 \n",
    "- 비교 연산자의 결과는 bool 타입"
   ]
  },
  {
   "cell_type": "code",
   "execution_count": 17,
   "id": "c5b0211f",
   "metadata": {},
   "outputs": [
    {
     "name": "stdout",
     "output_type": "stream",
     "text": [
      "True\n",
      "<class 'bool'>\n"
     ]
    }
   ],
   "source": [
    "a = 5\n",
    "b = 4\n",
    "\n",
    "c = (a > b)\n",
    "print(c)\n",
    "print(type(c))"
   ]
  },
  {
   "cell_type": "markdown",
   "id": "828a2d95",
   "metadata": {},
   "source": [
    "### numbers (숫자형 타입)\n",
    "- 정수, 실수로 구성\n",
    "- 수학의 기본 연산자(가감승제) 사용 가능"
   ]
  },
  {
   "cell_type": "code",
   "execution_count": 19,
   "id": "341b7fca",
   "metadata": {},
   "outputs": [
    {
     "data": {
      "text/plain": [
       "1"
      ]
     },
     "execution_count": 19,
     "metadata": {},
     "output_type": "execute_result"
    }
   ],
   "source": [
    "a = 5\n",
    "b = 4\n",
    "\n",
    "a + b"
   ]
  },
  {
   "cell_type": "markdown",
   "id": "bfa4c676",
   "metadata": {},
   "source": [
    "### operator priorities (연산자 우선순위)\n",
    "- 기본적인 수학의 연산자와 동일 \n",
    "- 강제로 연산을 선수하기 위해선, 괄호( )를 사용"
   ]
  },
  {
   "cell_type": "code",
   "execution_count": 21,
   "id": "73eda0cf",
   "metadata": {},
   "outputs": [
    {
     "name": "stdout",
     "output_type": "stream",
     "text": [
      "18\n",
      "13\n"
     ]
    }
   ],
   "source": [
    "a = 5\n",
    "b = 4 \n",
    "\n",
    "print((a + b) * 2)\n",
    "print(a + b * 2)"
   ]
  }
 ],
 "metadata": {
  "kernelspec": {
   "display_name": "Python 3 (ipykernel)",
   "language": "python",
   "name": "python3"
  },
  "language_info": {
   "codemirror_mode": {
    "name": "ipython",
    "version": 3
   },
   "file_extension": ".py",
   "mimetype": "text/x-python",
   "name": "python",
   "nbconvert_exporter": "python",
   "pygments_lexer": "ipython3",
   "version": "3.9.13"
  }
 },
 "nbformat": 4,
 "nbformat_minor": 5
}
